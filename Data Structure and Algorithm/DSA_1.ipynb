{
  "nbformat": 4,
  "nbformat_minor": 0,
  "metadata": {
    "colab": {
      "name": "DSA 1.ipynb",
      "provenance": []
    },
    "kernelspec": {
      "name": "python3",
      "display_name": "Python 3"
    },
    "language_info": {
      "name": "python"
    }
  },
  "cells": [
    {
      "cell_type": "markdown",
      "metadata": {
        "id": "40NXIdfFmJWy"
      },
      "source": [
        "**Binary Search**"
      ]
    },
    {
      "cell_type": "code",
      "metadata": {
        "id": "XbY8PxJPJpjP",
        "colab": {
          "base_uri": "https://localhost:8080/"
        },
        "outputId": "78b56c90-8171-40b0-f7c9-45eb5a4f5a71"
      },
      "source": [
        "def binarySearch(array,x,low,high):\n",
        "\n",
        "  #repeat until the pointers low and high meet each other\n",
        "  while low <= high:\n",
        "    # middle index\n",
        "    mid = low + (high - low) \n",
        "    # element found\n",
        "    if array[mid] == x: \n",
        "      return mid\n",
        "    # x is on the right side \n",
        "    elif array[mid] < x:\n",
        "      low = mid + 1\n",
        "    #x is on  the left side\n",
        "    else:\n",
        "      high = mid - 1\n",
        "  # element is not found    \n",
        "  return -1\n",
        "\n",
        "array = [3, 4, 5, 6, 7, 8, 9]\n",
        "x = 8\n",
        "\n",
        "result = binarySearch(array,x,0,len(array)-1)\n",
        "\n",
        "# if element is found\n",
        "if result != -1:\n",
        "  print(\"Element is present at index \"+ str(result))\n",
        "else:\n",
        "  print(\"Not Found\")"
      ],
      "execution_count": 1,
      "outputs": [
        {
          "output_type": "stream",
          "text": [
            "Element is present at index 5\n"
          ],
          "name": "stdout"
        }
      ]
    },
    {
      "cell_type": "markdown",
      "metadata": {
        "id": "8KihFE9Nma3I"
      },
      "source": [
        "**Selection Sort**"
      ]
    },
    {
      "cell_type": "code",
      "metadata": {
        "colab": {
          "base_uri": "https://localhost:8080/"
        },
        "id": "JnvzzXmPv8CO",
        "outputId": "26e85e6b-f778-4b31-d2d7-a040053138f0"
      },
      "source": [
        "# Selection sort in Python\n",
        "\n",
        "def selectionSort(array, size):\n",
        "   \n",
        "    for step in range(size):\n",
        "        min_idx = step\n",
        "\n",
        "        for i in range(step + 1, size):\n",
        "         \n",
        "            # to sort in descending order, change > to < in this line\n",
        "            # select the minimum element in each loop\n",
        "            if array[i] < array[min_idx]:\n",
        "                min_idx = i\n",
        "         \n",
        "        # put min at the correct position\n",
        "        (array[step], array[min_idx]) = (array[min_idx], array[step])\n",
        "\n",
        "\n",
        "data = [-2, 45, 0, 11, -9]\n",
        "size = len(data)\n",
        "selectionSort(data, size)\n",
        "print('Sorted Array in Ascending Order:')\n",
        "print(data)"
      ],
      "execution_count": 10,
      "outputs": [
        {
          "output_type": "stream",
          "text": [
            "Sorted Array in Ascending Order:\n",
            "[-9, -2, 0, 11, 45]\n"
          ],
          "name": "stdout"
        }
      ]
    },
    {
      "cell_type": "markdown",
      "metadata": {
        "id": "l49ROz-ZwmYn"
      },
      "source": [
        "**Bubble Sort**"
      ]
    },
    {
      "cell_type": "code",
      "metadata": {
        "colab": {
          "base_uri": "https://localhost:8080/"
        },
        "id": "KbKeqbu7wo0t",
        "outputId": "1f3589cc-1ceb-4472-d16f-a89ddb87456e"
      },
      "source": [
        "# Bubble sort in Python\n",
        "\n",
        "def bubbleSort(array):\n",
        "    \n",
        "  # loop to access each array element\n",
        "  for i in range(len(array)):\n",
        "\n",
        "    # loop to compare array elements\n",
        "    for j in range(0, len(array) - i - 1):\n",
        "\n",
        "      # compare two adjacent elements\n",
        "      # change > to < to sort in descending order\n",
        "      if array[j] > array[j + 1]:\n",
        "\n",
        "        # swapping elements if elements\n",
        "        # are not in the intended order\n",
        "        temp = array[j]\n",
        "        array[j] = array[j+1]\n",
        "        array[j+1] = temp\n",
        "\n",
        "\n",
        "data = [-2, 45, 0, 11, -9]\n",
        "\n",
        "bubbleSort(data)\n",
        "\n",
        "print('Sorted Array in Ascending Order:')\n",
        "print(data)"
      ],
      "execution_count": 11,
      "outputs": [
        {
          "output_type": "stream",
          "text": [
            "Sorted Array in Ascending Order:\n",
            "[-9, -2, 0, 11, 45]\n"
          ],
          "name": "stdout"
        }
      ]
    },
    {
      "cell_type": "markdown",
      "metadata": {
        "id": "uIhNF_oTxAxI"
      },
      "source": [
        "**Insertion Sort**"
      ]
    },
    {
      "cell_type": "code",
      "metadata": {
        "colab": {
          "base_uri": "https://localhost:8080/"
        },
        "id": "b8fhz4K8w_hv",
        "outputId": "a0fa9814-1ffc-43cd-a365-3a5d82ec3a45"
      },
      "source": [
        "# Insertion sort in Python\n",
        "\n",
        "def insertionSort(array):\n",
        "\n",
        "    for step in range(1, len(array)):\n",
        "        key = array[step]\n",
        "        j = step - 1\n",
        "        \n",
        "        # Compare key with each element on the left of it until an element smaller than it is found\n",
        "        # For descending order, change key<array[j] to key>array[j].        \n",
        "        while j >= 0 and key < array[j]:\n",
        "            array[j + 1] = array[j]\n",
        "            j = j - 1\n",
        "        \n",
        "        # Place key at after the element just smaller than it.\n",
        "        array[j + 1] = key\n",
        "\n",
        "\n",
        "data = [9, 5, 1, 4, 3]\n",
        "insertionSort(data)\n",
        "print('Sorted Array in Ascending Order:')\n",
        "print(data)"
      ],
      "execution_count": 13,
      "outputs": [
        {
          "output_type": "stream",
          "text": [
            "Sorted Array in Ascending Order:\n",
            "[1, 3, 4, 5, 9]\n"
          ],
          "name": "stdout"
        }
      ]
    }
  ]
}