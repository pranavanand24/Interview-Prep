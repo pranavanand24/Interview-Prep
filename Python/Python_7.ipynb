{
  "nbformat": 4,
  "nbformat_minor": 0,
  "metadata": {
    "colab": {
      "name": "Python 7.ipynb",
      "provenance": []
    },
    "kernelspec": {
      "name": "python3",
      "display_name": "Python 3"
    },
    "language_info": {
      "name": "python"
    }
  },
  "cells": [
    {
      "cell_type": "markdown",
      "metadata": {
        "id": "KOeqqFLhddZ5"
      },
      "source": [
        "**Strings**"
      ]
    },
    {
      "cell_type": "code",
      "metadata": {
        "colab": {
          "base_uri": "https://localhost:8080/"
        },
        "id": "WWo-xjWpc7Gl",
        "outputId": "068ebeed-80bf-40c4-fea2-c71afa61d1e2"
      },
      "source": [
        "s1 = 'hello'\n",
        "print(s1)\n",
        "s2 = \"hello\"\n",
        "print(s2)"
      ],
      "execution_count": null,
      "outputs": [
        {
          "output_type": "stream",
          "text": [
            "hello\n",
            "hello\n"
          ],
          "name": "stdout"
        }
      ]
    },
    {
      "cell_type": "markdown",
      "metadata": {
        "id": "Izya9JG-lt7z"
      },
      "source": [
        "**Multiline String**"
      ]
    },
    {
      "cell_type": "code",
      "metadata": {
        "id": "M-ul0Rs9dW-S",
        "colab": {
          "base_uri": "https://localhost:8080/"
        },
        "outputId": "163b02bd-cd9c-4e00-f243-dab33008a1a6"
      },
      "source": [
        "s3 = '''Hello\n",
        "World'''\n",
        "print(s3)"
      ],
      "execution_count": 2,
      "outputs": [
        {
          "output_type": "stream",
          "text": [
            "Hello\n",
            "World\n"
          ],
          "name": "stdout"
        }
      ]
    },
    {
      "cell_type": "markdown",
      "metadata": {
        "id": "_OZZyDrmfIPz"
      },
      "source": [
        "**Acessing Character in a string**"
      ]
    },
    {
      "cell_type": "code",
      "metadata": {
        "colab": {
          "base_uri": "https://localhost:8080/"
        },
        "id": "nUrj-UuOe4hH",
        "outputId": "19140cbc-2552-4826-87a7-33d6bb88139a"
      },
      "source": [
        "s = \"hello\"\n",
        "print(s[0])\n",
        "print(s[1])\n",
        "print(s[2])"
      ],
      "execution_count": 3,
      "outputs": [
        {
          "output_type": "stream",
          "text": [
            "h\n",
            "e\n",
            "l\n"
          ],
          "name": "stdout"
        }
      ]
    },
    {
      "cell_type": "markdown",
      "metadata": {
        "id": "QG0AJTp0g9Kc"
      },
      "source": [
        "**Negative Indexing**"
      ]
    },
    {
      "cell_type": "code",
      "metadata": {
        "colab": {
          "base_uri": "https://localhost:8080/"
        },
        "id": "PxD_bOKXg6FV",
        "outputId": "046d33f1-5492-4907-fa9c-2905e3de496d"
      },
      "source": [
        "s = \"hello\"\n",
        "print(s[-1])\n",
        "print(s[-2])\n",
        "print(s[-4])"
      ],
      "execution_count": 5,
      "outputs": [
        {
          "output_type": "stream",
          "text": [
            "o\n",
            "l\n",
            "e\n"
          ],
          "name": "stdout"
        }
      ]
    },
    {
      "cell_type": "markdown",
      "metadata": {
        "id": "RIvNplzhhX-0"
      },
      "source": [
        "**Concatenation of Strings**"
      ]
    },
    {
      "cell_type": "code",
      "metadata": {
        "colab": {
          "base_uri": "https://localhost:8080/"
        },
        "id": "YWTB2AuShQ5T",
        "outputId": "08ff4d07-3ba1-4afb-eb9e-eda2385446ad"
      },
      "source": [
        "str1 = \"hello\"\n",
        "str2 = \"world!\"\n",
        "\n",
        "print('str1 + str2 = ', str1 + str2)"
      ],
      "execution_count": 6,
      "outputs": [
        {
          "output_type": "stream",
          "text": [
            "str1 + str2 =  helloworld!\n"
          ],
          "name": "stdout"
        }
      ]
    },
    {
      "cell_type": "markdown",
      "metadata": {
        "id": "696qKo7wqndf"
      },
      "source": [
        "**Repeating Strings**"
      ]
    },
    {
      "cell_type": "code",
      "metadata": {
        "colab": {
          "base_uri": "https://localhost:8080/"
        },
        "id": "Abqw2nhWhtns",
        "outputId": "08814ea4-9f3d-4341-9e26-671b3298d05d"
      },
      "source": [
        "s = \"hello\"\n",
        "print(s*3)"
      ],
      "execution_count": 7,
      "outputs": [
        {
          "output_type": "stream",
          "text": [
            "hellohellohello\n"
          ],
          "name": "stdout"
        }
      ]
    },
    {
      "cell_type": "markdown",
      "metadata": {
        "id": "pyzcHXEpqzk2"
      },
      "source": [
        "**String Slicing**"
      ]
    },
    {
      "cell_type": "code",
      "metadata": {
        "colab": {
          "base_uri": "https://localhost:8080/"
        },
        "id": "wCyMe5p6qufg",
        "outputId": "3c03763f-7d92-4fdd-93da-1a4ff02c13a0"
      },
      "source": [
        "s = \"abcdefghi\"\n",
        "\n",
        "print(s[2:7])"
      ],
      "execution_count": 8,
      "outputs": [
        {
          "output_type": "stream",
          "text": [
            "cdefg\n"
          ],
          "name": "stdout"
        }
      ]
    },
    {
      "cell_type": "code",
      "metadata": {
        "colab": {
          "base_uri": "https://localhost:8080/"
        },
        "id": "HBPSPKwdsJP3",
        "outputId": "12fd7eba-a4de-413d-a8ee-517c7c1b480e"
      },
      "source": [
        "print(s[-7:-2])"
      ],
      "execution_count": 9,
      "outputs": [
        {
          "output_type": "stream",
          "text": [
            "cdefg\n"
          ],
          "name": "stdout"
        }
      ]
    },
    {
      "cell_type": "markdown",
      "metadata": {
        "id": "OExR0Z7istQh"
      },
      "source": [
        "**Specify Steps in Slicing**"
      ]
    },
    {
      "cell_type": "code",
      "metadata": {
        "colab": {
          "base_uri": "https://localhost:8080/"
        },
        "id": "xbZtHf1usqOq",
        "outputId": "03f21d61-cb55-41ab-eb95-f1194124da6d"
      },
      "source": [
        "s = \"abcdefghi\"\n",
        "\n",
        "print(s[2:7:2])"
      ],
      "execution_count": 11,
      "outputs": [
        {
          "output_type": "stream",
          "text": [
            "ceg\n"
          ],
          "name": "stdout"
        }
      ]
    },
    {
      "cell_type": "code",
      "metadata": {
        "colab": {
          "base_uri": "https://localhost:8080/"
        },
        "id": "r0P9r8PwvOkp",
        "outputId": "f2c024d5-98c0-480a-a4f1-15da4cc1320b"
      },
      "source": [
        "print(s[6:1:-2])"
      ],
      "execution_count": 12,
      "outputs": [
        {
          "output_type": "stream",
          "text": [
            "gec\n"
          ],
          "name": "stdout"
        }
      ]
    },
    {
      "cell_type": "markdown",
      "metadata": {
        "id": "jUJyTjVNwYLL"
      },
      "source": [
        "**Slicing at beginning and end**"
      ]
    },
    {
      "cell_type": "code",
      "metadata": {
        "colab": {
          "base_uri": "https://localhost:8080/"
        },
        "id": "QWiw5L_TwVLX",
        "outputId": "b832e7fb-086e-4513-cc89-5e4fc11fde9c"
      },
      "source": [
        "s = \"abcdefghijkl\"\n",
        "\n",
        "print(s[:5])"
      ],
      "execution_count": 14,
      "outputs": [
        {
          "output_type": "stream",
          "text": [
            "abcde\n"
          ],
          "name": "stdout"
        }
      ]
    },
    {
      "cell_type": "code",
      "metadata": {
        "colab": {
          "base_uri": "https://localhost:8080/"
        },
        "id": "rFOtFTjQ2FzH",
        "outputId": "28cf3b16-5d9c-4a23-bbb4-a6b5a81ace7e"
      },
      "source": [
        "print(s[4:])"
      ],
      "execution_count": 15,
      "outputs": [
        {
          "output_type": "stream",
          "text": [
            "efghijkl\n"
          ],
          "name": "stdout"
        }
      ]
    },
    {
      "cell_type": "markdown",
      "metadata": {
        "id": "euIytkrq2RNc"
      },
      "source": [
        "**Iteration on Strings**"
      ]
    },
    {
      "cell_type": "code",
      "metadata": {
        "colab": {
          "base_uri": "https://localhost:8080/"
        },
        "id": "bICwk7d_2MI-",
        "outputId": "8d98ad03-bb77-44e1-f455-57a43b908483"
      },
      "source": [
        "s = \"13579\"\n",
        "for i in s:\n",
        "  print(i)"
      ],
      "execution_count": 17,
      "outputs": [
        {
          "output_type": "stream",
          "text": [
            "1\n",
            "3\n",
            "5\n",
            "7\n",
            "9\n"
          ],
          "name": "stdout"
        }
      ]
    },
    {
      "cell_type": "code",
      "metadata": {
        "colab": {
          "base_uri": "https://localhost:8080/"
        },
        "id": "1RLHDg4e2fU3",
        "outputId": "d2d36fb1-a053-4418-a17e-57fbcc10230e"
      },
      "source": [
        "s = \"13579\"\n",
        "length = len(s)\n",
        "for i in range(length):\n",
        "  print(i)"
      ],
      "execution_count": 18,
      "outputs": [
        {
          "output_type": "stream",
          "text": [
            "0\n",
            "1\n",
            "2\n",
            "3\n",
            "4\n"
          ],
          "name": "stdout"
        }
      ]
    }
  ]
}