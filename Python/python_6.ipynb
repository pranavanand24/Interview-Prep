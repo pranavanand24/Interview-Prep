{
  "nbformat": 4,
  "nbformat_minor": 0,
  "metadata": {
    "colab": {
      "name": "python 6.ipynb",
      "provenance": []
    },
    "kernelspec": {
      "name": "python3",
      "display_name": "Python 3"
    },
    "language_info": {
      "name": "python"
    }
  },
  "cells": [
    {
      "cell_type": "markdown",
      "metadata": {
        "id": "oP5xXM3qPCGT"
      },
      "source": [
        "**for loop**"
      ]
    },
    {
      "cell_type": "code",
      "metadata": {
        "colab": {
          "base_uri": "https://localhost:8080/"
        },
        "id": "GIVRQO28OsPt",
        "outputId": "57332654-8454-4720-d179-fd2be7e7f416"
      },
      "source": [
        "li = [1,3,5,7,9]\n",
        "\n",
        "#using for loop\n",
        "for i in li:\n",
        "  print(i)"
      ],
      "execution_count": 1,
      "outputs": [
        {
          "output_type": "stream",
          "text": [
            "1\n",
            "3\n",
            "5\n",
            "7\n",
            "9\n"
          ],
          "name": "stdout"
        }
      ]
    },
    {
      "cell_type": "markdown",
      "metadata": {
        "id": "oy6gS59jPjQa"
      },
      "source": [
        "**for loop and range()**"
      ]
    },
    {
      "cell_type": "code",
      "metadata": {
        "colab": {
          "base_uri": "https://localhost:8080/"
        },
        "id": "uqWOXzsNPdYe",
        "outputId": "b0044c8c-740f-414f-df45-f25edd742931"
      },
      "source": [
        "list = [1,3,5,7,9]\n",
        "\n",
        "# getting the length of the list\n",
        "length = len(list)\n",
        "\n",
        "for i in range(length):\n",
        "  print(i)"
      ],
      "execution_count": 3,
      "outputs": [
        {
          "output_type": "stream",
          "text": [
            "0\n",
            "1\n",
            "2\n",
            "3\n",
            "4\n"
          ],
          "name": "stdout"
        }
      ]
    },
    {
      "cell_type": "code",
      "metadata": {
        "colab": {
          "base_uri": "https://localhost:8080/"
        },
        "id": "jpK6g_MlQQwJ",
        "outputId": "42bb553e-25d6-44c7-9f39-74b7c01e61a9"
      },
      "source": [
        "# create empty list\n",
        "li = []\n",
        "\n",
        "#run the loop 5 times\n",
        "for i in range(5):\n",
        "  a = int(input())\n",
        "  li.append(a)\n",
        "\n",
        "print(li)"
      ],
      "execution_count": 4,
      "outputs": [
        {
          "output_type": "stream",
          "text": [
            "1\n",
            "4\n",
            "7\n",
            "8\n",
            "9\n",
            "[1, 4, 7, 8, 9]\n"
          ],
          "name": "stdout"
        }
      ]
    },
    {
      "cell_type": "markdown",
      "metadata": {
        "id": "VNXi0mIIT1ay"
      },
      "source": [
        "**using split() method**"
      ]
    },
    {
      "cell_type": "code",
      "metadata": {
        "colab": {
          "base_uri": "https://localhost:8080/"
        },
        "id": "qAbk2KwDTimf",
        "outputId": "6a50625e-5c8a-43c8-b91e-7baba5f5e3bd"
      },
      "source": [
        "a = input().split()\n",
        "print(a)"
      ],
      "execution_count": 5,
      "outputs": [
        {
          "output_type": "stream",
          "text": [
            "1 2 3 4 5\n",
            "['1', '2', '3', '4', '5']\n"
          ],
          "name": "stdout"
        }
      ]
    },
    {
      "cell_type": "markdown",
      "metadata": {
        "id": "VE5JZPjQUr4k"
      },
      "source": [
        "**using list comprehension**"
      ]
    },
    {
      "cell_type": "code",
      "metadata": {
        "colab": {
          "base_uri": "https://localhost:8080/"
        },
        "id": "1z6DSc_sUSwN",
        "outputId": "d2038270-339c-4dba-84a6-ba5347d8fef3"
      },
      "source": [
        "li = [int(x) for x in input().split()]\n",
        "print(li)"
      ],
      "execution_count": 6,
      "outputs": [
        {
          "output_type": "stream",
          "text": [
            "1 2 3 4 5\n",
            "[1, 2, 3, 4, 5]\n"
          ],
          "name": "stdout"
        }
      ]
    },
    {
      "cell_type": "markdown",
      "metadata": {
        "id": "VZhL3BkcVaT1"
      },
      "source": [
        "**Linear Search Algorithm**\n"
      ]
    },
    {
      "cell_type": "code",
      "metadata": {
        "colab": {
          "base_uri": "https://localhost:8080/"
        },
        "id": "FvGp-ciuVOP2",
        "outputId": "41e7f7d3-3f41-47ff-9c46-ba63208a18e0"
      },
      "source": [
        "# taking list as user input\n",
        "li = [int(x) for x in input().split()]\n",
        "\n",
        "# user input for target value\n",
        "targetValue = int(input())\n",
        "\n",
        "# boolean value to check if we found the targetValue\n",
        "found = False\n",
        "\n",
        "for i in li:\n",
        "  if (i == targetValue):\n",
        "    print(li.index(i))\n",
        "    found = True\n",
        "    break\n",
        "\n",
        "if found is False:\n",
        "  print(-1)"
      ],
      "execution_count": 7,
      "outputs": [
        {
          "output_type": "stream",
          "text": [
            "1 2 4 67 23 12\n",
            "23\n",
            "4\n"
          ],
          "name": "stdout"
        }
      ]
    },
    {
      "cell_type": "markdown",
      "metadata": {
        "id": "qhXOk79dbcnC"
      },
      "source": [
        "**Linear Search through functions**"
      ]
    },
    {
      "cell_type": "code",
      "metadata": {
        "colab": {
          "base_uri": "https://localhost:8080/"
        },
        "id": "PeurfLYlbSzp",
        "outputId": "4903fac2-732d-4e7a-a026-22b8101cf75f"
      },
      "source": [
        "def linearSearch(li, targetValue):\n",
        "  for i in li:\n",
        "    if (i == targetValue):\n",
        "      return li.index(i)\n",
        "\n",
        "  return -1\n",
        "\n",
        "li = [int(x) for x in input().split()]\n",
        "targetValue = int(input())\n",
        "print(linearSearch(li, targetValue))"
      ],
      "execution_count": 8,
      "outputs": [
        {
          "output_type": "stream",
          "text": [
            "1 4 19 39 61 82\n",
            "42\n",
            "-1\n"
          ],
          "name": "stdout"
        }
      ]
    },
    {
      "cell_type": "markdown",
      "metadata": {
        "id": "cU8b62ffwMgR"
      },
      "source": [
        "**List Comprehension**"
      ]
    },
    {
      "cell_type": "code",
      "metadata": {
        "colab": {
          "base_uri": "https://localhost:8080/"
        },
        "id": "Gt-U0y5AvtM7",
        "outputId": "082d71cc-3afa-4a97-ce64-ee721985be81"
      },
      "source": [
        "numbers = [1,2,3,4]\n",
        "squares = [n**2 for n in numbers]\n",
        "print(squares)"
      ],
      "execution_count": 12,
      "outputs": [
        {
          "output_type": "stream",
          "text": [
            "[1, 4, 9, 16]\n"
          ],
          "name": "stdout"
        }
      ]
    },
    {
      "cell_type": "code",
      "metadata": {
        "colab": {
          "base_uri": "https://localhost:8080/"
        },
        "id": "g4D7y3MkytZi",
        "outputId": "bf1edeac-87f9-45fd-967d-28cff5f4e618"
      },
      "source": [
        "list_a = [1,2,3,4]\n",
        "list_b = [2,3,4,5]\n",
        "\n",
        "common_num = [a for a in list_a for b in list_b if a == b]\n",
        "print(common_num)"
      ],
      "execution_count": 13,
      "outputs": [
        {
          "output_type": "stream",
          "text": [
            "[2, 3, 4]\n"
          ],
          "name": "stdout"
        }
      ]
    },
    {
      "cell_type": "markdown",
      "metadata": {
        "id": "3egMmLYSzcqf"
      },
      "source": [
        "**2D list**"
      ]
    },
    {
      "cell_type": "code",
      "metadata": {
        "colab": {
          "base_uri": "https://localhost:8080/"
        },
        "id": "fxrKQx1LzQLk",
        "outputId": "5341e968-5a8e-42e6-ddce-6bdc1ad172dc"
      },
      "source": [
        "T = [[11,12,5,2], [15,6,10,6],[0,5,11,13],[10,8,12,5],[12,15,8,6]]\n",
        "for row in T:\n",
        "  for col in row:\n",
        "    print(col, end=\" \")\n",
        "  print()"
      ],
      "execution_count": 14,
      "outputs": [
        {
          "output_type": "stream",
          "text": [
            "11 12 5 2 \n",
            "15 6 10 6 \n",
            "0 5 11 13 \n",
            "10 8 12 5 \n",
            "12 15 8 6 \n"
          ],
          "name": "stdout"
        }
      ]
    },
    {
      "cell_type": "code",
      "metadata": {
        "colab": {
          "base_uri": "https://localhost:8080/"
        },
        "id": "NurV0438D8TZ",
        "outputId": "1c7b80e1-70b4-4265-faf2-5e96a12e54f2"
      },
      "source": [
        "row = int(input())\n",
        "col = int(input())\n",
        "inputL = input().split()\n",
        "fnlList = [[int(inputL[i*col+ j]) for j in range(col)] for i in range(row)]\n",
        "print(fnlList)"
      ],
      "execution_count": 18,
      "outputs": [
        {
          "output_type": "stream",
          "text": [
            "4\n",
            "5\n",
            "11 12 5 2 15 6 10 6 0 5 11 13 10 8 12 5 12 15 8 6\n",
            "[[11, 12, 5, 2, 15], [6, 10, 6, 0, 5], [11, 13, 10, 8, 12], [5, 12, 15, 8, 6]]\n"
          ],
          "name": "stdout"
        }
      ]
    }
  ]
}