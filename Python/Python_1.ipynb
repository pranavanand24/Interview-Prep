{
  "nbformat": 4,
  "nbformat_minor": 0,
  "metadata": {
    "colab": {
      "name": "Python 1.ipynb",
      "provenance": []
    },
    "kernelspec": {
      "name": "python3",
      "display_name": "Python 3"
    },
    "language_info": {
      "name": "python"
    }
  },
  "cells": [
    {
      "cell_type": "markdown",
      "metadata": {
        "id": "o9EcJjxGJNgz"
      },
      "source": [
        "**Introduction**"
      ]
    },
    {
      "cell_type": "code",
      "metadata": {
        "colab": {
          "base_uri": "https://localhost:8080/"
        },
        "id": "9CV1pm3EG-cp",
        "outputId": "c3f1bbc8-cd49-46e4-ac7c-fcf063b65734"
      },
      "source": [
        "print(\"hello world\")"
      ],
      "execution_count": 2,
      "outputs": [
        {
          "output_type": "stream",
          "text": [
            "hello world\n"
          ],
          "name": "stdout"
        }
      ]
    },
    {
      "cell_type": "markdown",
      "metadata": {
        "id": "TGGHVoPYJM0L"
      },
      "source": [
        "**Python Numbers**"
      ]
    },
    {
      "cell_type": "code",
      "metadata": {
        "colab": {
          "base_uri": "https://localhost:8080/"
        },
        "id": "HZ9dfF-EIkPW",
        "outputId": "37e52a8a-494a-41c8-c98e-02d86385a3a5"
      },
      "source": [
        "b = 5\n",
        "print(b, \"is of type\", type(b))\n",
        "b = 2.0\n",
        "print(b, \"is of type\", type(b))\n",
        "b = 1+2j\n",
        "print(b, \"is complex number?\", isinstance(b, complex))"
      ],
      "execution_count": 3,
      "outputs": [
        {
          "output_type": "stream",
          "text": [
            "5 is of type <class 'int'>\n",
            "2.0 is of type <class 'float'>\n",
            "(1+2j) is complex number? True\n"
          ],
          "name": "stdout"
        }
      ]
    },
    {
      "cell_type": "markdown",
      "metadata": {
        "id": "lsq9wVFHKQUF"
      },
      "source": [
        "**Arithmetic Operator**"
      ]
    },
    {
      "cell_type": "code",
      "metadata": {
        "colab": {
          "base_uri": "https://localhost:8080/"
        },
        "id": "uv1CDkM7KIpC",
        "outputId": "9283834f-32e0-4148-d974-b681820bdecd"
      },
      "source": [
        "# Addition\n",
        "print(5+2)\n",
        "\n",
        "# Subtraction\n",
        "print(5-2)\n",
        "\n",
        "# Multiplication\n",
        "print(5*2)\n",
        "\n",
        "# Float Point Devision\n",
        "print(5/2)\n",
        "\n",
        "# Floor Devision\n",
        "print(5//2)\n",
        "\n",
        "#Exponential\n",
        "print(5**2)\n",
        "\n",
        "# Modulas\n",
        "print(5%2)"
      ],
      "execution_count": 4,
      "outputs": [
        {
          "output_type": "stream",
          "text": [
            "7\n",
            "3\n",
            "10\n",
            "2.5\n",
            "2\n",
            "25\n",
            "1\n"
          ],
          "name": "stdout"
        }
      ]
    },
    {
      "cell_type": "markdown",
      "metadata": {
        "id": "h90yex4AMYz-"
      },
      "source": [
        "**Taking User Input**"
      ]
    },
    {
      "cell_type": "code",
      "metadata": {
        "colab": {
          "base_uri": "https://localhost:8080/"
        },
        "id": "XG-RgYhyMPrK",
        "outputId": "221c0d11-89ef-4b37-fbbd-1f97b64cf2dd"
      },
      "source": [
        "name = input(\"Enter Your Name: \")"
      ],
      "execution_count": 6,
      "outputs": [
        {
          "output_type": "stream",
          "text": [
            "Enter Your Name: Pranav\n"
          ],
          "name": "stdout"
        }
      ]
    },
    {
      "cell_type": "code",
      "metadata": {
        "colab": {
          "base_uri": "https://localhost:8080/"
        },
        "id": "kWd1xOFAMisy",
        "outputId": "83ac3dee-a9f6-4ce2-f7ed-929376b02c80"
      },
      "source": [
        "age = input(\"Enter Your Age: \")"
      ],
      "execution_count": 7,
      "outputs": [
        {
          "output_type": "stream",
          "text": [
            "Enter Your Age: 21\n"
          ],
          "name": "stdout"
        }
      ]
    },
    {
      "cell_type": "code",
      "metadata": {
        "colab": {
          "base_uri": "https://localhost:8080/",
          "height": 35
        },
        "id": "jhI6Y8BeMsuZ",
        "outputId": "47f09d55-dc03-42c8-8046-23c7c61df758"
      },
      "source": [
        "name"
      ],
      "execution_count": 8,
      "outputs": [
        {
          "output_type": "execute_result",
          "data": {
            "application/vnd.google.colaboratory.intrinsic+json": {
              "type": "string"
            },
            "text/plain": [
              "'Pranav'"
            ]
          },
          "metadata": {
            "tags": []
          },
          "execution_count": 8
        }
      ]
    },
    {
      "cell_type": "code",
      "metadata": {
        "colab": {
          "base_uri": "https://localhost:8080/",
          "height": 35
        },
        "id": "2ml78bOsMu-6",
        "outputId": "75ecad7d-80ff-4197-a2a8-32a6abb1d287"
      },
      "source": [
        "age"
      ],
      "execution_count": 9,
      "outputs": [
        {
          "output_type": "execute_result",
          "data": {
            "application/vnd.google.colaboratory.intrinsic+json": {
              "type": "string"
            },
            "text/plain": [
              "'21'"
            ]
          },
          "metadata": {
            "tags": []
          },
          "execution_count": 9
        }
      ]
    },
    {
      "cell_type": "markdown",
      "metadata": {
        "id": "2rX1bC5DM7-_"
      },
      "source": [
        "**Relational Operator**"
      ]
    },
    {
      "cell_type": "code",
      "metadata": {
        "colab": {
          "base_uri": "https://localhost:8080/"
        },
        "id": "zLrJNYVXMw7T",
        "outputId": "8d3dc1a1-9794-44e8-f282-8363eb5028e8"
      },
      "source": [
        "x = 9\n",
        "y = 13\n",
        "\n",
        "# Here 9 is not grater than 13\n",
        "print('x > y is', x > y)\n",
        "\n",
        "# Here 9 is less than 13\n",
        "print('x < y is', x < y)\n",
        "\n",
        "# Here 9 is not equal to 13\n",
        "print('x == y is', x == y)\n",
        "\n",
        "# Here 9 is not equal to 13\n",
        "print('x != y is', x != y)\n",
        "\n",
        "# Here 9 is not grater than or equal to 13\n",
        "print('x >= y is', x >= y)\n",
        "\n",
        "# Here 9 is less than 13\n",
        "print('x <= y is',  x <= y)"
      ],
      "execution_count": 15,
      "outputs": [
        {
          "output_type": "stream",
          "text": [
            "x > y is False\n",
            "x < y is True\n",
            "x == y is False\n",
            "x != y is True\n",
            "x >= y is False\n",
            "x <= y is True\n"
          ],
          "name": "stdout"
        }
      ]
    },
    {
      "cell_type": "markdown",
      "metadata": {
        "id": "nn7AZFnHPtcK"
      },
      "source": [
        "**Logical Operator**"
      ]
    },
    {
      "cell_type": "code",
      "metadata": {
        "colab": {
          "base_uri": "https://localhost:8080/"
        },
        "id": "26gPEDvtPNnl",
        "outputId": "ccec3853-3a3e-4386-d210-78364c419e83"
      },
      "source": [
        "x = True\n",
        "y = False\n",
        "\n",
        "print('x and y is', x and y)\n",
        "print('x or y', x or y)\n",
        "print('not x is', not x)"
      ],
      "execution_count": 16,
      "outputs": [
        {
          "output_type": "stream",
          "text": [
            "x and y is False\n",
            "x or y True\n",
            "not x is False\n"
          ],
          "name": "stdout"
        }
      ]
    }
  ]
}