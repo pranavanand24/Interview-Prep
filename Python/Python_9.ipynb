{
  "nbformat": 4,
  "nbformat_minor": 0,
  "metadata": {
    "colab": {
      "name": "Python 9.ipynb",
      "provenance": []
    },
    "kernelspec": {
      "name": "python3",
      "display_name": "Python 3"
    },
    "language_info": {
      "name": "python"
    }
  },
  "cells": [
    {
      "cell_type": "markdown",
      "metadata": {
        "id": "aRoX6M7eCOdg"
      },
      "source": [
        "**Dictionary**"
      ]
    },
    {
      "cell_type": "code",
      "metadata": {
        "colab": {
          "base_uri": "https://localhost:8080/"
        },
        "id": "WymcvH0VCHQw",
        "outputId": "212b4299-912f-491c-cb1d-e9335acad9f3"
      },
      "source": [
        "d1 = dict.fromkeys([\"abc\",1,\"two\"])\n",
        "print(d1)"
      ],
      "execution_count": null,
      "outputs": [
        {
          "output_type": "stream",
          "text": [
            "{'abc': None, 1: None, 'two': None}\n"
          ],
          "name": "stdout"
        }
      ]
    },
    {
      "cell_type": "code",
      "metadata": {
        "colab": {
          "base_uri": "https://localhost:8080/"
        },
        "id": "stso14-jCrOF",
        "outputId": "a246be1f-3611-4465-e4ea-4d44a42aec1e"
      },
      "source": [
        "d2 = dict.fromkeys([\"abc\",1,\"two\"],6)\n",
        "print(d2)"
      ],
      "execution_count": null,
      "outputs": [
        {
          "output_type": "stream",
          "text": [
            "{'abc': 6, 1: 6, 'two': 6}\n"
          ],
          "name": "stdout"
        }
      ]
    },
    {
      "cell_type": "markdown",
      "metadata": {
        "id": "qCTeDEjJPyrk"
      },
      "source": [
        "**Access Elements in a Dictionary**"
      ]
    },
    {
      "cell_type": "code",
      "metadata": {
        "id": "jwIlXRtOC3kd",
        "colab": {
          "base_uri": "https://localhost:8080/"
        },
        "outputId": "6c4c708c-c234-4337-d62c-b3a709a2c251"
      },
      "source": [
        "foo = {\"a\":1, \"b\":2, \"c\":3}\n",
        "print(foo[\"a\"])"
      ],
      "execution_count": null,
      "outputs": [
        {
          "output_type": "stream",
          "text": [
            "1\n"
          ],
          "name": "stdout"
        }
      ]
    },
    {
      "cell_type": "code",
      "metadata": {
        "colab": {
          "base_uri": "https://localhost:8080/"
        },
        "id": "--gfhuq-PueM",
        "outputId": "1618e54d-0a23-4176-8590-ef6a71da6efe"
      },
      "source": [
        "print(foo.get(\"a\"))"
      ],
      "execution_count": null,
      "outputs": [
        {
          "output_type": "stream",
          "text": [
            "1\n"
          ],
          "name": "stdout"
        }
      ]
    },
    {
      "cell_type": "code",
      "metadata": {
        "colab": {
          "base_uri": "https://localhost:8080/"
        },
        "id": "1RVwWx7sP-bp",
        "outputId": "6a76204a-ca5e-41e0-a037-fd7b0131fc4b"
      },
      "source": [
        "print(foo.get(\"a\",0))"
      ],
      "execution_count": null,
      "outputs": [
        {
          "output_type": "stream",
          "text": [
            "1\n"
          ],
          "name": "stdout"
        }
      ]
    },
    {
      "cell_type": "markdown",
      "metadata": {
        "id": "kqC55FHVQnKG"
      },
      "source": [
        "**Accessing all the available keys in the dictionary**"
      ]
    },
    {
      "cell_type": "code",
      "metadata": {
        "colab": {
          "base_uri": "https://localhost:8080/"
        },
        "id": "gyski64cQmHq",
        "outputId": "17f5bc29-69f0-490e-805c-75ed8a09301c"
      },
      "source": [
        "foo = {\"a\":1, \"b\":2,\"c\":3}\n",
        "foo.keys()"
      ],
      "execution_count": null,
      "outputs": [
        {
          "output_type": "execute_result",
          "data": {
            "text/plain": [
              "dict_keys(['a', 'b', 'c'])"
            ]
          },
          "metadata": {
            "tags": []
          },
          "execution_count": 7
        }
      ]
    },
    {
      "cell_type": "code",
      "metadata": {
        "colab": {
          "base_uri": "https://localhost:8080/"
        },
        "id": "TMKKXrZ_Q3N0",
        "outputId": "b9016ef7-e37a-42f3-d117-ad81dd9820a1"
      },
      "source": [
        "foo.items()"
      ],
      "execution_count": null,
      "outputs": [
        {
          "output_type": "execute_result",
          "data": {
            "text/plain": [
              "dict_items([('a', 1), ('b', 2), ('c', 3)])"
            ]
          },
          "metadata": {
            "tags": []
          },
          "execution_count": 8
        }
      ]
    },
    {
      "cell_type": "code",
      "metadata": {
        "colab": {
          "base_uri": "https://localhost:8080/"
        },
        "id": "O763yVcUSPLX",
        "outputId": "3067e0c5-fcc5-43f7-aae2-123a67c4c39f"
      },
      "source": [
        "\"a\" in foo"
      ],
      "execution_count": null,
      "outputs": [
        {
          "output_type": "execute_result",
          "data": {
            "text/plain": [
              "True"
            ]
          },
          "metadata": {
            "tags": []
          },
          "execution_count": 9
        }
      ]
    },
    {
      "cell_type": "markdown",
      "metadata": {
        "id": "Ay1p0JW6SXjs"
      },
      "source": [
        "**Iterating over a dictionary**"
      ]
    },
    {
      "cell_type": "code",
      "metadata": {
        "colab": {
          "base_uri": "https://localhost:8080/"
        },
        "id": "qRuYHRLTSVcM",
        "outputId": "b175e300-a0e0-4b71-91ba-c733bfd88f10"
      },
      "source": [
        "bar = {2:1, 3:2, 4:3}\n",
        "for t in bar:\n",
        "  print(t)"
      ],
      "execution_count": null,
      "outputs": [
        {
          "output_type": "stream",
          "text": [
            "2\n",
            "3\n",
            "4\n"
          ],
          "name": "stdout"
        }
      ]
    },
    {
      "cell_type": "code",
      "metadata": {
        "colab": {
          "base_uri": "https://localhost:8080/"
        },
        "id": "nMkFFBbQSlSt",
        "outputId": "4afed591-5dc4-4dd3-8f49-82b6d240f4dd"
      },
      "source": [
        "for t in bar:\n",
        "  print(t, bar[t])"
      ],
      "execution_count": null,
      "outputs": [
        {
          "output_type": "stream",
          "text": [
            "2 1\n",
            "3 2\n",
            "4 3\n"
          ],
          "name": "stdout"
        }
      ]
    },
    {
      "cell_type": "markdown",
      "metadata": {
        "id": "etSioiExTsAu"
      },
      "source": [
        "**Adding Elements in a dictionary**"
      ]
    },
    {
      "cell_type": "code",
      "metadata": {
        "colab": {
          "base_uri": "https://localhost:8080/"
        },
        "id": "ondW8WE7Ssye",
        "outputId": "d5103b09-2089-452d-cc88-42fc3faf7763"
      },
      "source": [
        "bar = {2:1,3:2,4:3}\n",
        "bar[3] = 4\n",
        "print(bar)"
      ],
      "execution_count": null,
      "outputs": [
        {
          "output_type": "stream",
          "text": [
            "{2: 1, 3: 4, 4: 3}\n"
          ],
          "name": "stdout"
        }
      ]
    },
    {
      "cell_type": "code",
      "metadata": {
        "id": "u8G7G5NNVLL2",
        "colab": {
          "base_uri": "https://localhost:8080/"
        },
        "outputId": "746cfdcf-4466-4b0a-8502-fe73780d482e"
      },
      "source": [
        "bar[\"man\"] = \"boy\"\n",
        "print(bar)"
      ],
      "execution_count": null,
      "outputs": [
        {
          "output_type": "stream",
          "text": [
            "{2: 1, 3: 4, 4: 3, 'man': 'boy'}\n"
          ],
          "name": "stdout"
        }
      ]
    },
    {
      "cell_type": "markdown",
      "metadata": {
        "id": "SpI8sfPLjHSv"
      },
      "source": [
        "**Adding or Concatenation of two Dictionary**"
      ]
    },
    {
      "cell_type": "code",
      "metadata": {
        "colab": {
          "base_uri": "https://localhost:8080/"
        },
        "id": "UFW_HUorjAtW",
        "outputId": "51b14093-02e7-4153-8d90-3c4ae46a2c1b"
      },
      "source": [
        "a = {1:2,2:3,3:4}\n",
        "b = {7:2,10:3,6:4}\n",
        "a.update(b)\n",
        "print(a)"
      ],
      "execution_count": null,
      "outputs": [
        {
          "output_type": "stream",
          "text": [
            "{1: 2, 2: 3, 3: 4, 7: 2, 10: 3, 6: 4}\n"
          ],
          "name": "stdout"
        }
      ]
    },
    {
      "cell_type": "markdown",
      "metadata": {
        "id": "I3kCHGrl0Dx6"
      },
      "source": [
        "**Deleting the Entries**"
      ]
    },
    {
      "cell_type": "code",
      "metadata": {
        "colab": {
          "base_uri": "https://localhost:8080/"
        },
        "id": "nqu8Dm3NwHeh",
        "outputId": "53c6051e-2e83-4b4e-c2d3-efcaad74f19c"
      },
      "source": [
        "c = {1:2,2:(3,23,3),3:4}\n",
        "c.pop(2)"
      ],
      "execution_count": null,
      "outputs": [
        {
          "output_type": "execute_result",
          "data": {
            "text/plain": [
              "(3, 23, 3)"
            ]
          },
          "metadata": {
            "tags": []
          },
          "execution_count": 17
        }
      ]
    },
    {
      "cell_type": "markdown",
      "metadata": {
        "id": "SfTxdomIYZJT"
      },
      "source": [
        "**Question - Print all words with frequency k**"
      ]
    },
    {
      "cell_type": "code",
      "metadata": {
        "id": "Dn_Fejpn1fJG"
      },
      "source": [
        "def printKFreqWords(string,k):\n",
        "\n",
        "  #coverting the input string to a list\n",
        "  myList = string.split()\n",
        "\n",
        "  #Initialise an empty dictionary\n",
        "  dict = {}\n",
        "\n",
        "  #Iterate through the list in order to find frequency\n",
        "  for i in myList:\n",
        "    dict[i] = dict[i] + 1\n",
        "  else:\n",
        "    dict[i] = 1\n",
        "  # Loop for Printing the keys with frequency as k\n",
        "\n",
        "  for t in dict:\n",
        "    if dict[t] == k:\n",
        "      print(t)"
      ],
      "execution_count": 2,
      "outputs": []
    }
  ]
}