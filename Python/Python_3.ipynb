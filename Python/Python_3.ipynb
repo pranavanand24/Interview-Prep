{
  "nbformat": 4,
  "nbformat_minor": 0,
  "metadata": {
    "colab": {
      "name": "Python 3.ipynb",
      "provenance": []
    },
    "kernelspec": {
      "name": "python3",
      "display_name": "Python 3"
    },
    "language_info": {
      "name": "python"
    }
  },
  "cells": [
    {
      "cell_type": "markdown",
      "metadata": {
        "id": "iouE4mt9YEzP"
      },
      "source": [
        "**in operator**"
      ]
    },
    {
      "cell_type": "code",
      "metadata": {
        "colab": {
          "base_uri": "https://localhost:8080/"
        },
        "id": "E-jP65o3YIZQ",
        "outputId": "79a5e1fe-f064-4379-aa83-dfc33f3068f7"
      },
      "source": [
        "3 in [1,2,3,4]"
      ],
      "execution_count": 7,
      "outputs": [
        {
          "output_type": "execute_result",
          "data": {
            "text/plain": [
              "True"
            ]
          },
          "metadata": {
            "tags": []
          },
          "execution_count": 7
        }
      ]
    },
    {
      "cell_type": "markdown",
      "metadata": {
        "id": "q8yKuX97YS-9"
      },
      "source": [
        "**for loop**"
      ]
    },
    {
      "cell_type": "code",
      "metadata": {
        "colab": {
          "base_uri": "https://localhost:8080/"
        },
        "id": "pxYnid6DYLgo",
        "outputId": "b497de07-3500-4df3-b8e1-7ffacc0b95b3"
      },
      "source": [
        "for a in [1,4,7]:\n",
        "  print(a)"
      ],
      "execution_count": 8,
      "outputs": [
        {
          "output_type": "stream",
          "text": [
            "1\n",
            "4\n",
            "7\n"
          ],
          "name": "stdout"
        }
      ]
    },
    {
      "cell_type": "markdown",
      "metadata": {
        "id": "0U4sKbW-gG6O"
      },
      "source": [
        "**Using For Loop, check whether it is Prime or Not**"
      ]
    },
    {
      "cell_type": "code",
      "metadata": {
        "colab": {
          "base_uri": "https://localhost:8080/"
        },
        "id": "ndkFmARpYZyU",
        "outputId": "076e041f-5639-49a1-f210-43410a53c80a"
      },
      "source": [
        "# taking input from the user\n",
        "\n",
        "number = int(input(\"Enter any number: \"))\n",
        "\n",
        "isPrime = True\n",
        "\n",
        "# primne number is less than or equal to 1\n",
        "if number > 1:\n",
        "  for i in range(2,number):\n",
        "    # checking for positive divisors\n",
        "    if (number % i) == 0:\n",
        "      isPrime = False\n",
        "      break\n",
        "\n",
        "# if the number is less than or equal to 1\n",
        "if (number <= 1):\n",
        "  print(\"Is not Prime\")\n",
        "elif (isPrime):\n",
        "  print(\"Is Prime\")\n",
        "\n",
        "else:\n",
        "  print(\"Is Not Prime\")"
      ],
      "execution_count": 10,
      "outputs": [
        {
          "output_type": "stream",
          "text": [
            "Enter any number: 23\n",
            "Is Prime\n"
          ],
          "name": "stdout"
        }
      ]
    },
    {
      "cell_type": "markdown",
      "metadata": {
        "id": "jKtRMogKiRo0"
      },
      "source": [
        "**break Statement**"
      ]
    },
    {
      "cell_type": "code",
      "metadata": {
        "colab": {
          "base_uri": "https://localhost:8080/"
        },
        "id": "M4N-Ee4kiDiy",
        "outputId": "81f410d8-151e-4f97-fc44-fe97b7968bcc"
      },
      "source": [
        "for val in \"string\":\n",
        "  if val == \"i\":\n",
        "    break\n",
        "  print(val)\n",
        "print(\"The End\")"
      ],
      "execution_count": 12,
      "outputs": [
        {
          "output_type": "stream",
          "text": [
            "s\n",
            "t\n",
            "r\n",
            "The End\n"
          ],
          "name": "stdout"
        }
      ]
    },
    {
      "cell_type": "markdown",
      "metadata": {
        "id": "Ukn8nCgQjIs_"
      },
      "source": [
        "**continue Statement**"
      ]
    },
    {
      "cell_type": "code",
      "metadata": {
        "colab": {
          "base_uri": "https://localhost:8080/"
        },
        "id": "vaov-rGHiraw",
        "outputId": "01ca60b2-6e5c-4ae4-af8c-8c2e8eb61880"
      },
      "source": [
        "for val in \"string\":\n",
        "  if val == \"i\":\n",
        "    continue\n",
        "  print(val)\n",
        "print(\"The End\")"
      ],
      "execution_count": 13,
      "outputs": [
        {
          "output_type": "stream",
          "text": [
            "s\n",
            "t\n",
            "r\n",
            "n\n",
            "g\n",
            "The End\n"
          ],
          "name": "stdout"
        }
      ]
    },
    {
      "cell_type": "markdown",
      "metadata": {
        "id": "3aYaLooOsixS"
      },
      "source": [
        "**pass statement**"
      ]
    },
    {
      "cell_type": "code",
      "metadata": {
        "id": "tTjLHVZcsZMk"
      },
      "source": [
        "n = 2\n",
        "if n == 2:\n",
        "  pass\n",
        "else:\n",
        "  print(\"Executed\")\n",
        "\n",
        "# it passes so nothing was executed"
      ],
      "execution_count": 15,
      "outputs": []
    },
    {
      "cell_type": "markdown",
      "metadata": {
        "id": "e57XCbQ_uY0z"
      },
      "source": [
        "**Global and Local Variable**"
      ]
    },
    {
      "cell_type": "code",
      "metadata": {
        "colab": {
          "base_uri": "https://localhost:8080/"
        },
        "id": "siSOwv7Xt83F",
        "outputId": "22f42e4d-249d-4358-a831-17293893ec0e"
      },
      "source": [
        "x = \"Global Variable\"\n",
        "\n",
        "def foo():\n",
        "  print(\"Value of x: \", x)\n",
        "foo()"
      ],
      "execution_count": 16,
      "outputs": [
        {
          "output_type": "stream",
          "text": [
            "Value of x:  Global Variable\n"
          ],
          "name": "stdout"
        }
      ]
    },
    {
      "cell_type": "code",
      "metadata": {
        "colab": {
          "base_uri": "https://localhost:8080/"
        },
        "id": "Hi8oRCI0u_cl",
        "outputId": "17be4067-8098-459a-ab43-602e674e2743"
      },
      "source": [
        "def foo():\n",
        "  y = \"Local Variable\"\n",
        "  print(y)\n",
        "foo()"
      ],
      "execution_count": 18,
      "outputs": [
        {
          "output_type": "stream",
          "text": [
            "Local Variable\n"
          ],
          "name": "stdout"
        }
      ]
    },
    {
      "cell_type": "markdown",
      "metadata": {
        "id": "R6zIMEVgvTRD"
      },
      "source": [
        "**Global and Local Variable with the Same Name**"
      ]
    },
    {
      "cell_type": "code",
      "metadata": {
        "colab": {
          "base_uri": "https://localhost:8080/"
        },
        "id": "9j_rJeL2vKyp",
        "outputId": "6ee8b87f-5816-4dc1-d615-e8dac34c36d1"
      },
      "source": [
        "x = 5\n",
        "def foo():\n",
        "  x = 10\n",
        "  print(\"Local: \", x)\n",
        "foo()\n",
        "\n",
        "print(\"Global: \",x)"
      ],
      "execution_count": 19,
      "outputs": [
        {
          "output_type": "stream",
          "text": [
            "Local:  10\n",
            "Global:  5\n"
          ],
          "name": "stdout"
        }
      ]
    }
  ]
}