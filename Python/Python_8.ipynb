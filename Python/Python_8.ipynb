{
  "nbformat": 4,
  "nbformat_minor": 0,
  "metadata": {
    "colab": {
      "name": "Python 8.ipynb",
      "provenance": []
    },
    "kernelspec": {
      "name": "python3",
      "display_name": "Python 3"
    },
    "language_info": {
      "name": "python"
    }
  },
  "cells": [
    {
      "cell_type": "markdown",
      "metadata": {
        "id": "iTGXscBM9Bbc"
      },
      "source": [
        "**Tuples, Dictionary, and Sets**"
      ]
    },
    {
      "cell_type": "code",
      "metadata": {
        "colab": {
          "base_uri": "https://localhost:8080/"
        },
        "id": "UOQs7WAg87UR",
        "outputId": "62239887-b875-4dc4-fe96-a470eb3f1fd7"
      },
      "source": [
        "a = (1,2)\n",
        "b = (\"eat\", \"dinner\", \"man\", \"boy\")\n",
        "print(a, b)"
      ],
      "execution_count": 25,
      "outputs": [
        {
          "output_type": "stream",
          "text": [
            "(1, 2) ('eat', 'dinner', 'man', 'boy')\n"
          ],
          "name": "stdout"
        }
      ]
    },
    {
      "cell_type": "code",
      "metadata": {
        "colab": {
          "base_uri": "https://localhost:8080/"
        },
        "id": "8OP4xz5h_Z3d",
        "outputId": "5546adc3-218b-474e-83fc-05b271492f2c"
      },
      "source": [
        "print(type(a))"
      ],
      "execution_count": 26,
      "outputs": [
        {
          "output_type": "stream",
          "text": [
            "<class 'tuple'>\n"
          ],
          "name": "stdout"
        }
      ]
    },
    {
      "cell_type": "code",
      "metadata": {
        "colab": {
          "base_uri": "https://localhost:8080/"
        },
        "id": "gF2UGShp_dzv",
        "outputId": "d7731336-f435-4314-98df-2fca56896e74"
      },
      "source": [
        "c = 1,2,3,4,5\n",
        "print(c)"
      ],
      "execution_count": 27,
      "outputs": [
        {
          "output_type": "stream",
          "text": [
            "(1, 2, 3, 4, 5)\n"
          ],
          "name": "stdout"
        }
      ]
    },
    {
      "cell_type": "code",
      "metadata": {
        "colab": {
          "base_uri": "https://localhost:8080/"
        },
        "id": "mDeiv9lK_tdv",
        "outputId": "26070c22-83fe-4257-d655-a4a505211d00"
      },
      "source": [
        "e,f = \"boy\", \"man\"\n",
        "print(e)\n",
        "print(f)"
      ],
      "execution_count": 28,
      "outputs": [
        {
          "output_type": "stream",
          "text": [
            "boy\n",
            "man\n"
          ],
          "name": "stdout"
        }
      ]
    },
    {
      "cell_type": "markdown",
      "metadata": {
        "id": "Gmx0JMl4A0uj"
      },
      "source": [
        "**Creating tuple with single element**"
      ]
    },
    {
      "cell_type": "code",
      "metadata": {
        "colab": {
          "base_uri": "https://localhost:8080/"
        },
        "id": "CWVRMe3__zh_",
        "outputId": "6d287bcf-cec0-4943-8bc8-781a192e9c60"
      },
      "source": [
        "a = (\"Hamburger\")\n",
        "print(type(a))"
      ],
      "execution_count": 29,
      "outputs": [
        {
          "output_type": "stream",
          "text": [
            "<class 'str'>\n"
          ],
          "name": "stdout"
        }
      ]
    },
    {
      "cell_type": "code",
      "metadata": {
        "colab": {
          "base_uri": "https://localhost:8080/"
        },
        "id": "hcTAA1lWA-TA",
        "outputId": "b756b860-8504-4c13-a3bf-b510fa57eca1"
      },
      "source": [
        "tuple(\"Hamberger\")"
      ],
      "execution_count": 30,
      "outputs": [
        {
          "output_type": "execute_result",
          "data": {
            "text/plain": [
              "('H', 'a', 'm', 'b', 'e', 'r', 'g', 'e', 'r')"
            ]
          },
          "metadata": {
            "tags": []
          },
          "execution_count": 30
        }
      ]
    },
    {
      "cell_type": "code",
      "metadata": {
        "colab": {
          "base_uri": "https://localhost:8080/"
        },
        "id": "3OqL5WBkBC3a",
        "outputId": "e0ad15be-ab4f-420b-8a12-349d2de3eb79"
      },
      "source": [
        "a = (\"Hamberger\",)\n",
        "print(type(a))"
      ],
      "execution_count": 31,
      "outputs": [
        {
          "output_type": "stream",
          "text": [
            "<class 'tuple'>\n"
          ],
          "name": "stdout"
        }
      ]
    },
    {
      "cell_type": "code",
      "metadata": {
        "colab": {
          "base_uri": "https://localhost:8080/"
        },
        "id": "GMiXKLaABQud",
        "outputId": "789e3458-a69b-4ae6-e22a-ab475b6e7109"
      },
      "source": [
        "myTemp = (1,15,13,18,19,23,4,5,2,3)\n",
        "\n",
        "print(myTemp[0])\n",
        "print(myTemp[6])\n",
        "print(myTemp[-1])"
      ],
      "execution_count": 32,
      "outputs": [
        {
          "output_type": "stream",
          "text": [
            "1\n",
            "4\n",
            "3\n"
          ],
          "name": "stdout"
        }
      ]
    },
    {
      "cell_type": "markdown",
      "metadata": {
        "id": "L664YCDvDKjs"
      },
      "source": [
        "**Slicing Of a Tuple**"
      ]
    },
    {
      "cell_type": "code",
      "metadata": {
        "colab": {
          "base_uri": "https://localhost:8080/"
        },
        "id": "SpreygCuC8uT",
        "outputId": "3a9bb091-18a3-422b-f524-f5e91d95347e"
      },
      "source": [
        "print(myTemp[1:4])"
      ],
      "execution_count": 33,
      "outputs": [
        {
          "output_type": "stream",
          "text": [
            "(15, 13, 18)\n"
          ],
          "name": "stdout"
        }
      ]
    },
    {
      "cell_type": "code",
      "metadata": {
        "colab": {
          "base_uri": "https://localhost:8080/"
        },
        "id": "ttlwYsoZFQkl",
        "outputId": "24bc655a-2090-42cf-8a89-99d370d430b8"
      },
      "source": [
        "print(myTemp[7:])"
      ],
      "execution_count": 34,
      "outputs": [
        {
          "output_type": "stream",
          "text": [
            "(5, 2, 3)\n"
          ],
          "name": "stdout"
        }
      ]
    },
    {
      "cell_type": "markdown",
      "metadata": {
        "id": "Y0j0WYVRI4sg"
      },
      "source": [
        "**Tuple Function**"
      ]
    },
    {
      "cell_type": "code",
      "metadata": {
        "id": "vtnbgjHHGtDU",
        "colab": {
          "base_uri": "https://localhost:8080/"
        },
        "outputId": "78b8d0e6-3792-405a-f316-867f5eec3b26"
      },
      "source": [
        "myTemp = (1,2,3,4)\n",
        "\n",
        "for t in myTemp:\n",
        "  print(t)"
      ],
      "execution_count": 35,
      "outputs": [
        {
          "output_type": "stream",
          "text": [
            "1\n",
            "2\n",
            "3\n",
            "4\n"
          ],
          "name": "stdout"
        }
      ]
    },
    {
      "cell_type": "code",
      "metadata": {
        "colab": {
          "base_uri": "https://localhost:8080/"
        },
        "id": "rzS-u1XhVOKU",
        "outputId": "5ca94087-7a78-40fc-f78d-e356fc31219f"
      },
      "source": [
        "10 in myTemp"
      ],
      "execution_count": 36,
      "outputs": [
        {
          "output_type": "execute_result",
          "data": {
            "text/plain": [
              "False"
            ]
          },
          "metadata": {
            "tags": []
          },
          "execution_count": 36
        }
      ]
    },
    {
      "cell_type": "code",
      "metadata": {
        "colab": {
          "base_uri": "https://localhost:8080/"
        },
        "id": "8ldMJvIMVV5A",
        "outputId": "b0e4f805-f7de-4a05-fb18-3a506e711654"
      },
      "source": [
        "4 in myTemp"
      ],
      "execution_count": 37,
      "outputs": [
        {
          "output_type": "execute_result",
          "data": {
            "text/plain": [
              "True"
            ]
          },
          "metadata": {
            "tags": []
          },
          "execution_count": 37
        }
      ]
    },
    {
      "cell_type": "code",
      "metadata": {
        "colab": {
          "base_uri": "https://localhost:8080/"
        },
        "id": "n9ieu_nuVcjK",
        "outputId": "34484b45-a90f-46da-f175-6a3857f50e39"
      },
      "source": [
        "print(len(myTemp))"
      ],
      "execution_count": 38,
      "outputs": [
        {
          "output_type": "stream",
          "text": [
            "4\n"
          ],
          "name": "stdout"
        }
      ]
    },
    {
      "cell_type": "markdown",
      "metadata": {
        "id": "kxqrmySrVjFd"
      },
      "source": [
        "**Concatenation**"
      ]
    },
    {
      "cell_type": "code",
      "metadata": {
        "colab": {
          "base_uri": "https://localhost:8080/"
        },
        "id": "V8bKJux7Vg3B",
        "outputId": "e833aa43-0f6c-4a38-ee2f-c5876ee80d21"
      },
      "source": [
        "a = (1,2,3,4)\n",
        "b = (5,6,7,8)\n",
        "\n",
        "d = a+b\n",
        "print(d)"
      ],
      "execution_count": 39,
      "outputs": [
        {
          "output_type": "stream",
          "text": [
            "(1, 2, 3, 4, 5, 6, 7, 8)\n"
          ],
          "name": "stdout"
        }
      ]
    },
    {
      "cell_type": "code",
      "metadata": {
        "colab": {
          "base_uri": "https://localhost:8080/"
        },
        "id": "QaIQagItVuCY",
        "outputId": "f3284456-ed1d-49ff-ff59-caa40d90554d"
      },
      "source": [
        "d = (a,b)\n",
        "print(d)"
      ],
      "execution_count": 40,
      "outputs": [
        {
          "output_type": "stream",
          "text": [
            "((1, 2, 3, 4), (5, 6, 7, 8))\n"
          ],
          "name": "stdout"
        }
      ]
    },
    {
      "cell_type": "code",
      "metadata": {
        "colab": {
          "base_uri": "https://localhost:8080/"
        },
        "id": "9FX-A7etVxyf",
        "outputId": "fb6e1dd1-7616-411d-bd49-80f61605ad47"
      },
      "source": [
        "print(max(a))"
      ],
      "execution_count": 41,
      "outputs": [
        {
          "output_type": "stream",
          "text": [
            "4\n"
          ],
          "name": "stdout"
        }
      ]
    },
    {
      "cell_type": "code",
      "metadata": {
        "colab": {
          "base_uri": "https://localhost:8080/"
        },
        "id": "asfqjNpPV_qN",
        "outputId": "f5a0430f-7b1c-479f-c39d-83a0f2b42f2e"
      },
      "source": [
        "e = (1,2,3,5,6)\n",
        "print(min(e))"
      ],
      "execution_count": 42,
      "outputs": [
        {
          "output_type": "stream",
          "text": [
            "1\n"
          ],
          "name": "stdout"
        }
      ]
    },
    {
      "cell_type": "markdown",
      "metadata": {
        "id": "7l2nYjq_Ypju"
      },
      "source": [
        "**Converting a list to a tuple**"
      ]
    },
    {
      "cell_type": "code",
      "metadata": {
        "id": "NYCd8gg5WGtf",
        "colab": {
          "base_uri": "https://localhost:8080/"
        },
        "outputId": "25b0fb3b-601f-47c0-a478-e15d69e0310a"
      },
      "source": [
        "myList = [1,2,3,4,5]\n",
        "myTuple = tuple(myList)\n",
        "print(myTuple)"
      ],
      "execution_count": 44,
      "outputs": [
        {
          "output_type": "stream",
          "text": [
            "(1, 2, 3, 4, 5)\n"
          ],
          "name": "stdout"
        }
      ]
    },
    {
      "cell_type": "markdown",
      "metadata": {
        "id": "_jSXCvdDa_7t"
      },
      "source": [
        "**Task 1 - Giving a variable of inputs and printing them** "
      ]
    },
    {
      "cell_type": "code",
      "metadata": {
        "colab": {
          "base_uri": "https://localhost:8080/"
        },
        "id": "ixCGCW7ManpB",
        "outputId": "f8c12d4f-67d5-4b7e-eddd-06d8883da0fb"
      },
      "source": [
        "def printNum(a,b, *more):\n",
        "  print(a)\n",
        "  print(b)\n",
        "  print(more)\n",
        "\n",
        "printNum(1,2,3,4,5,5)"
      ],
      "execution_count": 45,
      "outputs": [
        {
          "output_type": "stream",
          "text": [
            "1\n",
            "2\n",
            "(3, 4, 5, 5)\n"
          ],
          "name": "stdout"
        }
      ]
    },
    {
      "cell_type": "markdown",
      "metadata": {
        "id": "SXmwtYa_l0R7"
      },
      "source": [
        "**Task 2 - Finding sum of a variable number of inputs**"
      ]
    },
    {
      "cell_type": "code",
      "metadata": {
        "colab": {
          "base_uri": "https://localhost:8080/"
        },
        "id": "EI4qHXcolub_",
        "outputId": "0fd54632-3f4c-49f8-ad32-5f8f0313ab73"
      },
      "source": [
        "def printNum(a,b,*more):\n",
        "  sum = a+b\n",
        "  # Traverse the tuple *more\n",
        "  for t in more:\n",
        "    sum = sum + t\n",
        "  return sum\n",
        "printNum(1,2,3,4,5,6)"
      ],
      "execution_count": 49,
      "outputs": [
        {
          "output_type": "execute_result",
          "data": {
            "text/plain": [
              "21"
            ]
          },
          "metadata": {
            "tags": []
          },
          "execution_count": 49
        }
      ]
    },
    {
      "cell_type": "code",
      "metadata": {
        "colab": {
          "base_uri": "https://localhost:8080/"
        },
        "id": "iCK1ZXobmZqy",
        "outputId": "5dbe4b79-e348-4048-d0c2-5d2ed54b9e53"
      },
      "source": [
        "def sum_diff(a,b):\n",
        "  return a+b, a-b\n",
        "print(sum_diff(1,2))"
      ],
      "execution_count": 50,
      "outputs": [
        {
          "output_type": "stream",
          "text": [
            "(3, -1)\n"
          ],
          "name": "stdout"
        }
      ]
    },
    {
      "cell_type": "markdown",
      "metadata": {
        "id": "gcOwGgHGoWEL"
      },
      "source": [
        "**Type Casting in Dictionary**"
      ]
    },
    {
      "cell_type": "code",
      "metadata": {
        "colab": {
          "base_uri": "https://localhost:8080/"
        },
        "id": "ira-endMoOk2",
        "outputId": "806756f2-d200-4907-f566-5652991c722f"
      },
      "source": [
        "myList = [(\"a\",1), (\"b\",2), (\"c\",3)]\n",
        "myDictionary = dict(myList)\n",
        "print(myDictionary)"
      ],
      "execution_count": 53,
      "outputs": [
        {
          "output_type": "stream",
          "text": [
            "{'a': 1, 'b': 2, 'c': 3}\n"
          ],
          "name": "stdout"
        }
      ]
    },
    {
      "cell_type": "markdown",
      "metadata": {
        "id": "b-86YXBfo9H8"
      },
      "source": [
        "**Using Inbuilt .copy() method**"
      ]
    },
    {
      "cell_type": "code",
      "metadata": {
        "colab": {
          "base_uri": "https://localhost:8080/"
        },
        "id": "tdzpsWLaopnb",
        "outputId": "f53cc5c2-b4a9-40f7-a713-b5ce288d89a3"
      },
      "source": [
        "myDict = {\"a\":1, \"b\":2, \"c\":3}\n",
        "myDict2 = myDict.copy()\n",
        "print(myDict2)"
      ],
      "execution_count": 54,
      "outputs": [
        {
          "output_type": "stream",
          "text": [
            "{'a': 1, 'b': 2, 'c': 3}\n"
          ],
          "name": "stdout"
        }
      ]
    }
  ]
}