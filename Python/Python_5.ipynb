{
  "nbformat": 4,
  "nbformat_minor": 0,
  "metadata": {
    "colab": {
      "name": "Python 5.ipynb",
      "provenance": [],
      "collapsed_sections": []
    },
    "kernelspec": {
      "name": "python3",
      "display_name": "Python 3"
    },
    "language_info": {
      "name": "python"
    }
  },
  "cells": [
    {
      "cell_type": "markdown",
      "metadata": {
        "id": "wxInDkq0P0mD"
      },
      "source": [
        "**Lists**"
      ]
    },
    {
      "cell_type": "code",
      "metadata": {
        "id": "VKPC_k7NOCSa"
      },
      "source": [
        "# Empty List\n",
        "list1 = []\n",
        "\n",
        "# List of Integers\n",
        "list2 = [1,2,3,4]\n",
        "\n",
        "# List with mixed data types\n",
        "list3 = [1,\"one\",3.14]\n",
        "\n",
        "# Nested List\n",
        "list4 = [\"One\", [8,6,9], ['Three']]"
      ],
      "execution_count": null,
      "outputs": []
    },
    {
      "cell_type": "markdown",
      "metadata": {
        "id": "b8RgPviCUhJx"
      },
      "source": [
        "**Operations on the List**"
      ]
    },
    {
      "cell_type": "code",
      "metadata": {
        "colab": {
          "base_uri": "https://localhost:8080/"
        },
        "id": "FPQjuBV9UG9g",
        "outputId": "4881965e-15a4-4347-bd99-88639de25766"
      },
      "source": [
        "l1 = ['Mother', 'Father', 'Daughter', 10, 23]\n",
        "print(l1[0]) \n",
        "print(l1[3])                                                                                                                                                                                                                                                                                                                                                                                                                                                                                                                                                                                                                                                                                                                                                                                                                                                                                                                                                                                                                                                                                                                                                                                                                                                                                                                                                                                                                                                                                                                                                                                                                                                                                                                                                                                                                                                                                                                                                                                                                                                                                                                                                                                                                                                                                                                                                                                                                                                                                                                                                                                                                                                                                                                                                                                                                                                                                                                                                                                                                                                      "
      ],
      "execution_count": null,
      "outputs": [
        {
          "output_type": "stream",
          "text": [
            "Mother\n",
            "10\n"
          ],
          "name": "stdout"
        }
      ]
    },
    {
      "cell_type": "markdown",
      "metadata": {
        "id": "jcEosvfZZmDT"
      },
      "source": [
        "**Negative Indexing**"
      ]
    },
    {
      "cell_type": "code",
      "metadata": {
        "colab": {
          "base_uri": "https://localhost:8080/"
        },
        "id": "TC-tnkGiYppG",
        "outputId": "6a5ab7ad-696e-4644-d55e-6eb194409e9c"
      },
      "source": [
        "print(l1[-1])\n",
        "print(l1[-3])"
      ],
      "execution_count": null,
      "outputs": [
        {
          "output_type": "stream",
          "text": [
            "23\n",
            "Daughter\n"
          ],
          "name": "stdout"
        }
      ]
    },
    {
      "cell_type": "markdown",
      "metadata": {
        "id": "M-fwIQ12Zp9Q"
      },
      "source": [
        "**Changing Elements of a List**"
      ]
    },
    {
      "cell_type": "code",
      "metadata": {
        "colab": {
          "base_uri": "https://localhost:8080/"
        },
        "id": "-MstxXihY23z",
        "outputId": "ea82f594-dc7b-4665-ce82-44b9372c80fe"
      },
      "source": [
        "l1[3] = 12\n",
        "print(l1)"
      ],
      "execution_count": null,
      "outputs": [
        {
          "output_type": "stream",
          "text": [
            "['Mother', 'Father', 'Daughter', 12, 23]\n"
          ],
          "name": "stdout"
        }
      ]
    },
    {
      "cell_type": "markdown",
      "metadata": {
        "id": "W_m7xl6UZw4o"
      },
      "source": [
        "**Concatenation of Lists**"
      ]
    },
    {
      "cell_type": "code",
      "metadata": {
        "colab": {
          "base_uri": "https://localhost:8080/"
        },
        "id": "5vEyZBDrZf5b",
        "outputId": "3b808b9f-f3cb-46a6-a0b1-b47acf9ab5a8"
      },
      "source": [
        "l1 = [1,2,3]\n",
        "l2 = [4,5,6]\n",
        "\n",
        "l3 = l1 + l2\n",
        "print(l3)"
      ],
      "execution_count": null,
      "outputs": [
        {
          "output_type": "stream",
          "text": [
            "[1, 2, 3, 4, 5, 6]\n"
          ],
          "name": "stdout"
        }
      ]
    },
    {
      "cell_type": "markdown",
      "metadata": {
        "id": "HhR7aw7waRPh"
      },
      "source": [
        "**Repeating / Replicating Lists**"
      ]
    },
    {
      "cell_type": "code",
      "metadata": {
        "colab": {
          "base_uri": "https://localhost:8080/"
        },
        "id": "7GRUkd48aBHo",
        "outputId": "6f658953-2b22-47ce-f3af-1d54f544dc85"
      },
      "source": [
        "l1 = [1,2,10,23]\n",
        "print(l1*3)"
      ],
      "execution_count": null,
      "outputs": [
        {
          "output_type": "stream",
          "text": [
            "[1, 2, 10, 23, 1, 2, 10, 23, 1, 2, 10, 23]\n"
          ],
          "name": "stdout"
        }
      ]
    },
    {
      "cell_type": "markdown",
      "metadata": {
        "id": "VCKOe7KTa5kw"
      },
      "source": [
        "**List Slicing**"
      ]
    },
    {
      "cell_type": "code",
      "metadata": {
        "colab": {
          "base_uri": "https://localhost:8080/"
        },
        "id": "kd-X5Zgyac6S",
        "outputId": "792cf93b-1bf3-4b9e-a4fa-2317d33757c3"
      },
      "source": [
        "L = ['a','b','c','d','e','f','g','h','i']\n",
        "print(L[2:7])\n"
      ],
      "execution_count": null,
      "outputs": [
        {
          "output_type": "stream",
          "text": [
            "['c', 'd', 'e', 'f', 'g']\n"
          ],
          "name": "stdout"
        }
      ]
    },
    {
      "cell_type": "markdown",
      "metadata": {
        "id": "_y0J1keEbckB"
      },
      "source": [
        "**Slice Using Negative Indices**"
      ]
    },
    {
      "cell_type": "code",
      "metadata": {
        "colab": {
          "base_uri": "https://localhost:8080/"
        },
        "id": "UBoCa3xSbVpA",
        "outputId": "36b68529-cf50-42e8-f939-50dae9b0bdfc"
      },
      "source": [
        "print(L[-7:-4])"
      ],
      "execution_count": null,
      "outputs": [
        {
          "output_type": "stream",
          "text": [
            "['c', 'd', 'e']\n"
          ],
          "name": "stdout"
        }
      ]
    },
    {
      "cell_type": "markdown",
      "metadata": {
        "id": "Zesjk-v8cCGy"
      },
      "source": [
        "**Specify steps for Slicing**"
      ]
    },
    {
      "cell_type": "code",
      "metadata": {
        "colab": {
          "base_uri": "https://localhost:8080/"
        },
        "id": "nOElVVlsbnY5",
        "outputId": "415ddcf5-595a-433a-9076-a304c5653416"
      },
      "source": [
        "print(L[2:7:2])"
      ],
      "execution_count": null,
      "outputs": [
        {
          "output_type": "stream",
          "text": [
            "['c', 'e', 'g']\n"
          ],
          "name": "stdout"
        }
      ]
    },
    {
      "cell_type": "code",
      "metadata": {
        "colab": {
          "base_uri": "https://localhost:8080/"
        },
        "id": "ZxqYDeZvb_jz",
        "outputId": "259e0dad-3b21-4c49-aa74-56bc7ecdc9f8"
      },
      "source": [
        "print(L[6:1:-2])"
      ],
      "execution_count": null,
      "outputs": [
        {
          "output_type": "stream",
          "text": [
            "['g', 'e', 'c']\n"
          ],
          "name": "stdout"
        }
      ]
    },
    {
      "cell_type": "markdown",
      "metadata": {
        "id": "1GTE1zO4dfOJ"
      },
      "source": [
        "**Slice at Beginning and End**"
      ]
    },
    {
      "cell_type": "code",
      "metadata": {
        "colab": {
          "base_uri": "https://localhost:8080/"
        },
        "id": "pIcgoo69c_Jb",
        "outputId": "fe2ad495-6526-4806-e86a-a86daee92e10"
      },
      "source": [
        "print(L[:3])"
      ],
      "execution_count": null,
      "outputs": [
        {
          "output_type": "stream",
          "text": [
            "['a', 'b', 'c']\n"
          ],
          "name": "stdout"
        }
      ]
    },
    {
      "cell_type": "code",
      "metadata": {
        "colab": {
          "base_uri": "https://localhost:8080/"
        },
        "id": "xExmsEXwdpXi",
        "outputId": "1291b5d0-9f3b-4a1e-a6cb-c8519bd79509"
      },
      "source": [
        "print(L[6:])"
      ],
      "execution_count": null,
      "outputs": [
        {
          "output_type": "stream",
          "text": [
            "['g', 'h', 'i']\n"
          ],
          "name": "stdout"
        }
      ]
    },
    {
      "cell_type": "markdown",
      "metadata": {
        "id": "S8M2RZ0Nd2QM"
      },
      "source": [
        "**Reversing a List**"
      ]
    },
    {
      "cell_type": "code",
      "metadata": {
        "colab": {
          "base_uri": "https://localhost:8080/"
        },
        "id": "toqoJ90Rd0HY",
        "outputId": "a35350ee-fd2d-43e2-dc3a-444bdbfb8762"
      },
      "source": [
        "print(L[::-1])"
      ],
      "execution_count": null,
      "outputs": [
        {
          "output_type": "stream",
          "text": [
            "['i', 'h', 'g', 'f', 'e', 'd', 'c', 'b', 'a']\n"
          ],
          "name": "stdout"
        }
      ]
    },
    {
      "cell_type": "markdown",
      "metadata": {
        "id": "FAAJG-ZreCcU"
      },
      "source": [
        "**List Methods**"
      ]
    },
    {
      "cell_type": "markdown",
      "metadata": {
        "id": "r1aFiDSleG3E"
      },
      "source": [
        "- append()"
      ]
    },
    {
      "cell_type": "code",
      "metadata": {
        "id": "HXNXrMihd8dK",
        "colab": {
          "base_uri": "https://localhost:8080/"
        },
        "outputId": "e33dcb48-4047-48e8-aaaa-cd8ef6db9396"
      },
      "source": [
        "li =[1,2,3,4]\n",
        "li.append(5)\n",
        "li"
      ],
      "execution_count": 21,
      "outputs": [
        {
          "output_type": "execute_result",
          "data": {
            "text/plain": [
              "[1, 2, 3, 4, 5]"
            ]
          },
          "metadata": {
            "tags": []
          },
          "execution_count": 21
        }
      ]
    },
    {
      "cell_type": "markdown",
      "metadata": {
        "id": "NVWmW9yFpA48"
      },
      "source": [
        "- extend()"
      ]
    },
    {
      "cell_type": "code",
      "metadata": {
        "colab": {
          "base_uri": "https://localhost:8080/"
        },
        "id": "Bls6VW6LmtYh",
        "outputId": "ecdcef4f-1af2-4fee-9a66-31ee087cabb1"
      },
      "source": [
        "l1 = [1,2,3,4]\n",
        "l2 = [5,6,7,8]\n",
        "\n",
        "l1.extend(l2)\n",
        "l1"
      ],
      "execution_count": 23,
      "outputs": [
        {
          "output_type": "execute_result",
          "data": {
            "text/plain": [
              "[1, 2, 3, 4, 5, 6, 7, 8]"
            ]
          },
          "metadata": {
            "tags": []
          },
          "execution_count": 23
        }
      ]
    },
    {
      "cell_type": "markdown",
      "metadata": {
        "id": "xPAEpl_6pPAq"
      },
      "source": [
        "- insert()"
      ]
    },
    {
      "cell_type": "code",
      "metadata": {
        "colab": {
          "base_uri": "https://localhost:8080/"
        },
        "id": "Rlc2VMVUo-Zs",
        "outputId": "4d209c46-60c3-4436-adff-dd76a40db97a"
      },
      "source": [
        "li = [1,2,3,4]\n",
        "li.insert(2,5)\n",
        "li"
      ],
      "execution_count": 24,
      "outputs": [
        {
          "output_type": "execute_result",
          "data": {
            "text/plain": [
              "[1, 2, 5, 3, 4]"
            ]
          },
          "metadata": {
            "tags": []
          },
          "execution_count": 24
        }
      ]
    },
    {
      "cell_type": "markdown",
      "metadata": {
        "id": "rRqAb8byqAsc"
      },
      "source": [
        "- sum()"
      ]
    },
    {
      "cell_type": "code",
      "metadata": {
        "colab": {
          "base_uri": "https://localhost:8080/"
        },
        "id": "76-NEUQNp7fa",
        "outputId": "fc13016a-f38a-4aa4-c485-42686a02ecf1"
      },
      "source": [
        "l1 = [1,2,3,4]\n",
        "sum1 = sum(l1)\n",
        "sum1"
      ],
      "execution_count": 25,
      "outputs": [
        {
          "output_type": "execute_result",
          "data": {
            "text/plain": [
              "10"
            ]
          },
          "metadata": {
            "tags": []
          },
          "execution_count": 25
        }
      ]
    },
    {
      "cell_type": "code",
      "metadata": {
        "colab": {
          "base_uri": "https://localhost:8080/"
        },
        "id": "xh2g-fUeqJno",
        "outputId": "c9a24589-42e6-411e-896d-c0ee69e70759"
      },
      "source": [
        "l1 = [1,2,3,4,4,3,5,4,4,2]\n",
        "c = l1.count(4)\n",
        "c"
      ],
      "execution_count": 26,
      "outputs": [
        {
          "output_type": "execute_result",
          "data": {
            "text/plain": [
              "4"
            ]
          },
          "metadata": {
            "tags": []
          },
          "execution_count": 26
        }
      ]
    },
    {
      "cell_type": "markdown",
      "metadata": {
        "id": "7i15aMvAqyJN"
      },
      "source": [
        "- len()"
      ]
    },
    {
      "cell_type": "code",
      "metadata": {
        "colab": {
          "base_uri": "https://localhost:8080/"
        },
        "id": "MAe9-NpdqvL9",
        "outputId": "e7685e0a-d3b6-47eb-93c3-8a20582574aa"
      },
      "source": [
        "l1 = [1,2,3,4,5]\n",
        "len(l1)"
      ],
      "execution_count": 27,
      "outputs": [
        {
          "output_type": "execute_result",
          "data": {
            "text/plain": [
              "5"
            ]
          },
          "metadata": {
            "tags": []
          },
          "execution_count": 27
        }
      ]
    },
    {
      "cell_type": "markdown",
      "metadata": {
        "id": "izOTan76rrLW"
      },
      "source": [
        "- index()"
      ]
    },
    {
      "cell_type": "code",
      "metadata": {
        "colab": {
          "base_uri": "https://localhost:8080/"
        },
        "id": "0jrMJ8Zarjxq",
        "outputId": "03da7f4a-f848-404d-f7e6-24649da9a254"
      },
      "source": [
        "l1 = [1,2,3,4]\n",
        "l1.index(3)"
      ],
      "execution_count": 28,
      "outputs": [
        {
          "output_type": "execute_result",
          "data": {
            "text/plain": [
              "2"
            ]
          },
          "metadata": {
            "tags": []
          },
          "execution_count": 28
        }
      ]
    },
    {
      "cell_type": "markdown",
      "metadata": {
        "id": "XvKLblaasftx"
      },
      "source": [
        "- min()"
      ]
    },
    {
      "cell_type": "code",
      "metadata": {
        "colab": {
          "base_uri": "https://localhost:8080/"
        },
        "id": "yELFq55Vsd6E",
        "outputId": "71074f3c-e731-4766-e81b-e8c43927b6f6"
      },
      "source": [
        "l1 = [1,2,3,4,5,6,7]\n",
        "min(l1)"
      ],
      "execution_count": 29,
      "outputs": [
        {
          "output_type": "execute_result",
          "data": {
            "text/plain": [
              "1"
            ]
          },
          "metadata": {
            "tags": []
          },
          "execution_count": 29
        }
      ]
    },
    {
      "cell_type": "markdown",
      "metadata": {
        "id": "gp91sYsbt4I6"
      },
      "source": [
        "- max()"
      ]
    },
    {
      "cell_type": "code",
      "metadata": {
        "colab": {
          "base_uri": "https://localhost:8080/"
        },
        "id": "wKLmYfnjt2ia",
        "outputId": "ebfbae45-ee7f-4150-d879-059224f87233"
      },
      "source": [
        "l1 = [1,2,3,4,5,6,7,8]\n",
        "max(l1)"
      ],
      "execution_count": 30,
      "outputs": [
        {
          "output_type": "execute_result",
          "data": {
            "text/plain": [
              "8"
            ]
          },
          "metadata": {
            "tags": []
          },
          "execution_count": 30
        }
      ]
    },
    {
      "cell_type": "markdown",
      "metadata": {
        "id": "fN5I_XjKvKLn"
      },
      "source": [
        "- pop()"
      ]
    },
    {
      "cell_type": "code",
      "metadata": {
        "colab": {
          "base_uri": "https://localhost:8080/"
        },
        "id": "zdxVOS0Et-d8",
        "outputId": "a9d0ca9b-c138-48ca-f25d-a04578f6a8ec"
      },
      "source": [
        "l1 = [1,2,3,4,5]\n",
        "\n",
        "poppedElement = l1.pop(2)\n",
        "poppedElement"
      ],
      "execution_count": 32,
      "outputs": [
        {
          "output_type": "execute_result",
          "data": {
            "text/plain": [
              "3"
            ]
          },
          "metadata": {
            "tags": []
          },
          "execution_count": 32
        }
      ]
    },
    {
      "cell_type": "markdown",
      "metadata": {
        "id": "ze8jYEV0vic8"
      },
      "source": [
        "- remove()"
      ]
    },
    {
      "cell_type": "code",
      "metadata": {
        "colab": {
          "base_uri": "https://localhost:8080/"
        },
        "id": "ZHRcTHf3vVun",
        "outputId": "e3fbed01-d4d4-4849-9f70-af161bf22174"
      },
      "source": [
        "l1 = [1,2,3,4]\n",
        "l1.remove(3)\n",
        "l1"
      ],
      "execution_count": 34,
      "outputs": [
        {
          "output_type": "execute_result",
          "data": {
            "text/plain": [
              "[1, 2, 4]"
            ]
          },
          "metadata": {
            "tags": []
          },
          "execution_count": 34
        }
      ]
    }
  ]
}