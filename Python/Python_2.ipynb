{
  "nbformat": 4,
  "nbformat_minor": 0,
  "metadata": {
    "colab": {
      "name": "Python 2.ipynb",
      "provenance": []
    },
    "kernelspec": {
      "name": "python3",
      "display_name": "Python 3"
    },
    "language_info": {
      "name": "python"
    }
  },
  "cells": [
    {
      "cell_type": "markdown",
      "metadata": {
        "id": "-3-om0G4WnTT"
      },
      "source": [
        "**Simple If Statement**"
      ]
    },
    {
      "cell_type": "code",
      "metadata": {
        "colab": {
          "base_uri": "https://localhost:8080/"
        },
        "id": "fSdZUbwHTNO2",
        "outputId": "02a16710-0d2e-4c25-e724-28a5ae1d66f4"
      },
      "source": [
        "Val = False\n",
        "if Val == True:\n",
        "  print(\"value is True\")\n",
        "print(\"Value is False\")"
      ],
      "execution_count": 1,
      "outputs": [
        {
          "output_type": "stream",
          "text": [
            "Value is False\n"
          ],
          "name": "stdout"
        }
      ]
    },
    {
      "cell_type": "markdown",
      "metadata": {
        "id": "v-8E7y3AXKE6"
      },
      "source": [
        "**If Else Statement**"
      ]
    },
    {
      "cell_type": "code",
      "metadata": {
        "colab": {
          "base_uri": "https://localhost:8080/"
        },
        "id": "ZHffKgnYXFpJ",
        "outputId": "98d89a9d-b386-4361-d878-74f2f11fd0cc"
      },
      "source": [
        "num = 23\n",
        "if num % 2 == 0:\n",
        "  print(\"Even Number\")\n",
        "else:\n",
        "  print(\"Odd Number\")"
      ],
      "execution_count": 5,
      "outputs": [
        {
          "output_type": "stream",
          "text": [
            "Odd Number\n"
          ],
          "name": "stdout"
        }
      ]
    },
    {
      "cell_type": "code",
      "metadata": {
        "colab": {
          "base_uri": "https://localhost:8080/"
        },
        "id": "yG_AkHgGjG7Z",
        "outputId": "7f174c37-bad3-4cb6-9f49-1136d3839dff"
      },
      "source": [
        "A = True\n",
        "B = False\n",
        "\n",
        "if (A and B): \n",
        "  #True and False = False\n",
        "  print(\"hello\")\n",
        "\n",
        "else:\n",
        "  print(\"Hi\")"
      ],
      "execution_count": 7,
      "outputs": [
        {
          "output_type": "stream",
          "text": [
            "Hi\n"
          ],
          "name": "stdout"
        }
      ]
    },
    {
      "cell_type": "markdown",
      "metadata": {
        "id": "ZH9fuZU2ZGa8"
      },
      "source": [
        "**If Elif Else**"
      ]
    },
    {
      "cell_type": "code",
      "metadata": {
        "colab": {
          "base_uri": "https://localhost:8080/"
        },
        "id": "u4ilpC7EYrWk",
        "outputId": "20d8a9a5-6dcf-44d2-d755-c901827d2787"
      },
      "source": [
        "a = 10\n",
        "b = 20\n",
        "c = 30\n",
        "\n",
        "if a >= b and a >= c:\n",
        "  print(a)\n",
        "\n",
        "elif b >= c and b >= a:\n",
        "  print(b)\n",
        "\n",
        "else:\n",
        "  print(c)"
      ],
      "execution_count": 6,
      "outputs": [
        {
          "output_type": "stream",
          "text": [
            "30\n"
          ],
          "name": "stdout"
        }
      ]
    },
    {
      "cell_type": "markdown",
      "metadata": {
        "id": "j1Dc4VrAqEhQ"
      },
      "source": [
        "**While Loops**"
      ]
    },
    {
      "cell_type": "markdown",
      "metadata": {
        "id": "x3Vc27KXqz7x"
      },
      "source": [
        "**Question** - Given an Integer n, Find the Sum of First N Natural Number"
      ]
    },
    {
      "cell_type": "code",
      "metadata": {
        "colab": {
          "base_uri": "https://localhost:8080/"
        },
        "id": "iV61DyG6i3v3",
        "outputId": "0ad01b48-1484-462a-8bdc-da121dc025a7"
      },
      "source": [
        "n = 4\n",
        "sum = 0\n",
        "# Initialising the loops to 1\n",
        "i = 1\n",
        "while (i <= n ):\n",
        "  # the loop will continue till the value of i < number\n",
        "  sum = sum + i\n",
        "  i = i + 1\n",
        "print(sum)\n",
        "\n"
      ],
      "execution_count": 9,
      "outputs": [
        {
          "output_type": "stream",
          "text": [
            "10\n"
          ],
          "name": "stdout"
        }
      ]
    },
    {
      "cell_type": "markdown",
      "metadata": {
        "id": "kHtD4RWtrIzp"
      },
      "source": [
        "**While Loop and Nested If Statement**"
      ]
    },
    {
      "cell_type": "markdown",
      "metadata": {
        "id": "SLiaKnc5rPKp"
      },
      "source": [
        "**Question** - Given any Integer, check whether it is Prime or Not"
      ]
    },
    {
      "cell_type": "code",
      "metadata": {
        "colab": {
          "base_uri": "https://localhost:8080/"
        },
        "id": "VnNHxHbFqqMx",
        "outputId": "4815ec84-77e9-40da-f2f8-ed1ab9630802"
      },
      "source": [
        "# Taking Input from the User\n",
        "number =  int(input(\"Enter any Number: \"))\n",
        "\n",
        "# Boolean to store if number is prime or not\n",
        "\n",
        "isPrime = True\n",
        "if number > 1:\n",
        "  # prime number is grater than 1\n",
        "  i = 2\n",
        "  while i < number:\n",
        "    if (number % i ) == 0:\n",
        "      isPrime = False\n",
        "      break\n",
        "    i = i + 1\n",
        "\n",
        "# If number is less than or Equal to 1\n",
        "if (number <= 1):\n",
        "  print(\"Is not Prime\")\n",
        "\n",
        "# If boolean is True\n",
        "elif (isPrime):\n",
        "  print(\"Is Prime\")\n",
        "\n",
        "else:\n",
        "  print(\"Is Not Prime\")\n"
      ],
      "execution_count": 11,
      "outputs": [
        {
          "output_type": "stream",
          "text": [
            "Enter any Number: 23\n",
            "Is Prime\n"
          ],
          "name": "stdout"
        }
      ]
    }
  ]
}