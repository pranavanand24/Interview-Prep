{
  "nbformat": 4,
  "nbformat_minor": 0,
  "metadata": {
    "colab": {
      "name": "Python 4.ipynb",
      "provenance": []
    },
    "kernelspec": {
      "name": "python3",
      "display_name": "Python 3"
    },
    "language_info": {
      "name": "python"
    }
  },
  "cells": [
    {
      "cell_type": "markdown",
      "metadata": {
        "id": "5P-gLZfZpFU_"
      },
      "source": [
        "**Patterns**"
      ]
    },
    {
      "cell_type": "code",
      "metadata": {
        "colab": {
          "base_uri": "https://localhost:8080/"
        },
        "id": "Fx_oFYzFo5Yi",
        "outputId": "4e349690-5da1-496c-f786-c14423d88f13"
      },
      "source": [
        "N = int(input())\n",
        "row = 1\n",
        "while row <= N:\n",
        "  col = 1\n",
        "  while col <= N:\n",
        "    print(\"*\", end=\"  \")\n",
        "    col = col + 1\n",
        "  row = row + 1\n",
        "  print()"
      ],
      "execution_count": 18,
      "outputs": [
        {
          "output_type": "stream",
          "text": [
            "5\n",
            "*  *  *  *  *  \n",
            "*  *  *  *  *  \n",
            "*  *  *  *  *  \n",
            "*  *  *  *  *  \n",
            "*  *  *  *  *  \n"
          ],
          "name": "stdout"
        }
      ]
    },
    {
      "cell_type": "code",
      "metadata": {
        "colab": {
          "base_uri": "https://localhost:8080/"
        },
        "id": "JF9tw_3xrPvt",
        "outputId": "5770b7d5-7408-405e-c2ed-34069b1f9740"
      },
      "source": [
        "N =int(input())\n",
        "row = 1\n",
        "while row <= N:\n",
        "  col = 1\n",
        "  while col <= N:\n",
        "    print(row, end=\"  \")\n",
        "    col = col + 1\n",
        "  row = row + 1\n",
        "  print()"
      ],
      "execution_count": 19,
      "outputs": [
        {
          "output_type": "stream",
          "text": [
            "5\n",
            "1  1  1  1  1  \n",
            "2  2  2  2  2  \n",
            "3  3  3  3  3  \n",
            "4  4  4  4  4  \n",
            "5  5  5  5  5  \n"
          ],
          "name": "stdout"
        }
      ]
    },
    {
      "cell_type": "code",
      "metadata": {
        "colab": {
          "base_uri": "https://localhost:8080/"
        },
        "id": "I88F0eG0rupR",
        "outputId": "579d4773-036b-435a-fc86-cb885a8cda4c"
      },
      "source": [
        "N = int(input())\n",
        "row = 1\n",
        "while row <= N:\n",
        "  col = 1\n",
        "  while col <= N:\n",
        "    print(col, end =\"  \")\n",
        "    col = col + 1\n",
        "  row = row + 1\n",
        "  print()"
      ],
      "execution_count": 20,
      "outputs": [
        {
          "output_type": "stream",
          "text": [
            "5\n",
            "1  2  3  4  5  \n",
            "1  2  3  4  5  \n",
            "1  2  3  4  5  \n",
            "1  2  3  4  5  \n",
            "1  2  3  4  5  \n"
          ],
          "name": "stdout"
        }
      ]
    },
    {
      "cell_type": "code",
      "metadata": {
        "colab": {
          "base_uri": "https://localhost:8080/"
        },
        "id": "HLE2Zv3Gsa2P",
        "outputId": "f6057f15-06ae-47fb-b093-40a5e7e6ca48"
      },
      "source": [
        "N = int(input())\n",
        "row = 1\n",
        "while row <= N:\n",
        "  col = 1\n",
        "  while  col <= N:\n",
        "    print(N-col+1, end=\"  \")\n",
        "    col = col + 1\n",
        "  row = row + 1\n",
        "  print()"
      ],
      "execution_count": 21,
      "outputs": [
        {
          "output_type": "stream",
          "text": [
            "5\n",
            "5  4  3  2  1  \n",
            "5  4  3  2  1  \n",
            "5  4  3  2  1  \n",
            "5  4  3  2  1  \n",
            "5  4  3  2  1  \n"
          ],
          "name": "stdout"
        }
      ]
    },
    {
      "cell_type": "code",
      "metadata": {
        "colab": {
          "base_uri": "https://localhost:8080/"
        },
        "id": "j_T7P8lHudK9",
        "outputId": "0039cb5c-9c66-4602-ac9b-47d8042964ef"
      },
      "source": [
        "N = int(input())\n",
        "row = 1\n",
        "while row <= N:\n",
        "  col = 1\n",
        "  while col <= N:\n",
        "    print(col+row-1, end=\"  \")\n",
        "    col = col + 1\n",
        "  row = row + 1\n",
        "  print()"
      ],
      "execution_count": 22,
      "outputs": [
        {
          "output_type": "stream",
          "text": [
            "5\n",
            "1  2  3  4  5  \n",
            "2  3  4  5  6  \n",
            "3  4  5  6  7  \n",
            "4  5  6  7  8  \n",
            "5  6  7  8  9  \n"
          ],
          "name": "stdout"
        }
      ]
    },
    {
      "cell_type": "code",
      "metadata": {
        "colab": {
          "base_uri": "https://localhost:8080/"
        },
        "id": "AxE2BcRzu0_F",
        "outputId": "14d76fb6-fe9c-467b-980b-b0b1f8b96320"
      },
      "source": [
        "N = int(input())\n",
        "row = 1\n",
        "while row <= N:\n",
        "  col = 1\n",
        "  while col <= row:\n",
        "    print(row,end=\"  \")\n",
        "    col = col + 1\n",
        "  row = row + 1\n",
        "  print()"
      ],
      "execution_count": 23,
      "outputs": [
        {
          "output_type": "stream",
          "text": [
            "5\n",
            "1  \n",
            "2  2  \n",
            "3  3  3  \n",
            "4  4  4  4  \n",
            "5  5  5  5  5  \n"
          ],
          "name": "stdout"
        }
      ]
    },
    {
      "cell_type": "code",
      "metadata": {
        "colab": {
          "base_uri": "https://localhost:8080/"
        },
        "id": "2Bxkq_vF5Ou9",
        "outputId": "78f64151-32ce-442b-e343-9c03073118e7"
      },
      "source": [
        "N = int(input())\n",
        "row = 1\n",
        "while row <= N:\n",
        "  col = 1\n",
        "  while col <= row:\n",
        "    print(col, end=\"  \")\n",
        "    col = col + 1\n",
        "  row = row + 1\n",
        "  print()"
      ],
      "execution_count": 24,
      "outputs": [
        {
          "output_type": "stream",
          "text": [
            "5\n",
            "1  \n",
            "1  2  \n",
            "1  2  3  \n",
            "1  2  3  4  \n",
            "1  2  3  4  5  \n"
          ],
          "name": "stdout"
        }
      ]
    },
    {
      "cell_type": "code",
      "metadata": {
        "id": "t5-LXhaU6ani",
        "colab": {
          "base_uri": "https://localhost:8080/"
        },
        "outputId": "c34e2357-037c-4452-f838-51e89721fda9"
      },
      "source": [
        "N = int(input())\n",
        "row = 1\n",
        "var = 1\n",
        "while row <= N:\n",
        "  col = 1\n",
        "  temp = row\n",
        "  while col <= row:\n",
        "    print(temp, end = \"  \")\n",
        "    temp = temp + 1\n",
        "    col = col + 1\n",
        "  row = row + 1\n",
        "  print()"
      ],
      "execution_count": 25,
      "outputs": [
        {
          "output_type": "stream",
          "text": [
            "5\n",
            "1  \n",
            "2  3  \n",
            "3  4  5  \n",
            "4  5  6  7  \n",
            "5  6  7  8  9  \n"
          ],
          "name": "stdout"
        }
      ]
    }
  ]
}