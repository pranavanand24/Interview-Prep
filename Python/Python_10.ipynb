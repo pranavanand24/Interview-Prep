{
  "nbformat": 4,
  "nbformat_minor": 0,
  "metadata": {
    "colab": {
      "name": "Python 10.ipynb",
      "provenance": []
    },
    "kernelspec": {
      "name": "python3",
      "display_name": "Python 3"
    },
    "language_info": {
      "name": "python"
    }
  },
  "cells": [
    {
      "cell_type": "markdown",
      "metadata": {
        "id": "pyDlDGz4cvof"
      },
      "source": [
        "**Creating a Set**"
      ]
    },
    {
      "cell_type": "code",
      "metadata": {
        "colab": {
          "base_uri": "https://localhost:8080/"
        },
        "id": "UqjCRVhBcNQ4",
        "outputId": "fa6b4d3e-6f80-4930-dc94-2d5e07b97b1b"
      },
      "source": [
        "Days = set([\"Mon\",\"Tue\",\"Wed\",\"Thu\",\"Fri\",\"Sat\",\"Sun\"])\n",
        "Months ={\"Jan\",\"Feb\",\"Mar\"}\n",
        "Dates = {21,22,17}\n",
        "print(Days)\n",
        "print(Months)\n",
        "print(Dates)"
      ],
      "execution_count": 2,
      "outputs": [
        {
          "output_type": "stream",
          "text": [
            "{'Mon', 'Wed', 'Tue', 'Thu', 'Sat', 'Fri', 'Sun'}\n",
            "{'Feb', 'Jan', 'Mar'}\n",
            "{17, 21, 22}\n"
          ],
          "name": "stdout"
        }
      ]
    },
    {
      "cell_type": "markdown",
      "metadata": {
        "id": "zMwE0pczdnl_"
      },
      "source": [
        "**Accessing Values in a Set**"
      ]
    },
    {
      "cell_type": "code",
      "metadata": {
        "colab": {
          "base_uri": "https://localhost:8080/"
        },
        "id": "DFaIh_SVc-PR",
        "outputId": "e5a24924-befb-4615-8893-8c9df26003c5"
      },
      "source": [
        "Days = set([\"Mon\",\"Tue\",\"Wed\",\"Thu\",\"Fri\",\"Sat\",\"Sun\"])\n",
        "for d in Days:\n",
        "  print(d)"
      ],
      "execution_count": 3,
      "outputs": [
        {
          "output_type": "stream",
          "text": [
            "Mon\n",
            "Wed\n",
            "Tue\n",
            "Thu\n",
            "Sat\n",
            "Fri\n",
            "Sun\n"
          ],
          "name": "stdout"
        }
      ]
    },
    {
      "cell_type": "markdown",
      "metadata": {
        "id": "7iJ3ShDqeb8I"
      },
      "source": [
        "**Adding Items to a Set**"
      ]
    },
    {
      "cell_type": "code",
      "metadata": {
        "colab": {
          "base_uri": "https://localhost:8080/"
        },
        "id": "desGVPpgd_XU",
        "outputId": "b6a5d054-2ef7-4143-b1a2-64830f311391"
      },
      "source": [
        "Days = set([\"Mon\",\"Tue\",\"Wed\",\"Thu\",\"Fri\",\"Sat\"])\n",
        "Days.add(\"Sun\")\n",
        "print(Days)"
      ],
      "execution_count": 5,
      "outputs": [
        {
          "output_type": "stream",
          "text": [
            "{'Mon', 'Wed', 'Tue', 'Thu', 'Sat', 'Fri', 'Sun'}\n"
          ],
          "name": "stdout"
        }
      ]
    },
    {
      "cell_type": "markdown",
      "metadata": {
        "id": "zjASmkJIew9Q"
      },
      "source": [
        "**Removing Items from a Set**"
      ]
    },
    {
      "cell_type": "code",
      "metadata": {
        "colab": {
          "base_uri": "https://localhost:8080/"
        },
        "id": "-tNbjT6wetSi",
        "outputId": "4f82616f-dedc-4896-d7a3-b131e9c093a1"
      },
      "source": [
        "Days = set([\"Mon\",\"Tue\",\"Wed\",\"Thu\",\"Fri\",\"Sat\"])\n",
        "Days.discard(\"Sun\")\n",
        "print(Days)"
      ],
      "execution_count": 7,
      "outputs": [
        {
          "output_type": "stream",
          "text": [
            "{'Mon', 'Wed', 'Tue', 'Thu', 'Sat', 'Fri'}\n"
          ],
          "name": "stdout"
        }
      ]
    },
    {
      "cell_type": "markdown",
      "metadata": {
        "id": "qalFUZXWfe1a"
      },
      "source": [
        "**Union of Sets**"
      ]
    },
    {
      "cell_type": "code",
      "metadata": {
        "colab": {
          "base_uri": "https://localhost:8080/"
        },
        "id": "mo3sHIBdfDcK",
        "outputId": "6c487fdb-232d-4133-e652-f33f4e12bb00"
      },
      "source": [
        "DaysA = set([\"Mon\",\"Tue\",\"Wed\"])\n",
        "DaysB = set([\"wed\",\"Thur\",\"Fri\",\"Sat\",\"Sun\"])\n",
        "AllDays = DaysA|DaysB\n",
        "print(AllDays)"
      ],
      "execution_count": 8,
      "outputs": [
        {
          "output_type": "stream",
          "text": [
            "{'Mon', 'Wed', 'wed', 'Tue', 'Sat', 'Fri', 'Thur', 'Sun'}\n"
          ],
          "name": "stdout"
        }
      ]
    },
    {
      "cell_type": "markdown",
      "metadata": {
        "id": "Vm3G9PXxgMCL"
      },
      "source": [
        "**Intersection of Sets**"
      ]
    },
    {
      "cell_type": "code",
      "metadata": {
        "colab": {
          "base_uri": "https://localhost:8080/"
        },
        "id": "k-AyF44oggzV",
        "outputId": "07b07624-00e7-40bb-8d08-85727921ae1f"
      },
      "source": [
        "DaysA = set([\"Mon\",\"Tue\",\"Wed\"])\n",
        "DaysB = set([\"Wed\",\"Thur\",\"Fri\",\"Sat\",\"Sun\"])\n",
        "AllDays = DaysA & DaysB\n",
        "print(AllDays)"
      ],
      "execution_count": 9,
      "outputs": [
        {
          "output_type": "stream",
          "text": [
            "{'Wed'}\n"
          ],
          "name": "stdout"
        }
      ]
    },
    {
      "cell_type": "markdown",
      "metadata": {
        "id": "3pDb6_SMgn3D"
      },
      "source": [
        "**Difference of Sets**"
      ]
    },
    {
      "cell_type": "code",
      "metadata": {
        "colab": {
          "base_uri": "https://localhost:8080/"
        },
        "id": "KfWuIiiEgroK",
        "outputId": "6f4f950a-2cd0-4bc5-bf3c-14d0a1d0f090"
      },
      "source": [
        "DaysA = set([\"Mon\",\"Tue\",\"Wed\"])\n",
        "DaysB = set([\"wed\",\"Thur\",\"Fri\",\"Sat\",\"Sun\"])\n",
        "AllDays = DaysA - DaysB\n",
        "print(AllDays)"
      ],
      "execution_count": 10,
      "outputs": [
        {
          "output_type": "stream",
          "text": [
            "{'Tue', 'Mon', 'Wed'}\n"
          ],
          "name": "stdout"
        }
      ]
    },
    {
      "cell_type": "markdown",
      "metadata": {
        "id": "WSoxeYZXgz9B"
      },
      "source": [
        "**Compare Sets**"
      ]
    },
    {
      "cell_type": "code",
      "metadata": {
        "colab": {
          "base_uri": "https://localhost:8080/"
        },
        "id": "oGM3J9dMhGLd",
        "outputId": "593e7fac-4f83-44c2-ff9f-c6f1c519f165"
      },
      "source": [
        "DaysA = set([\"Mon\",\"Tue\",\"Wed\"])\n",
        "DaysB = set([\"Mon\",\"Tue\",\"Wed\",\"Thu\",\"Fri\",\"Sat\",\"Sun\"])\n",
        "\n",
        "#check subset\n",
        "SubsetRes = DaysA <= DaysB\n",
        "\n",
        "#check superset\n",
        "SupersetRes = DaysB >= DaysA \n",
        "\n",
        "print(SubsetRes)\n",
        "print(SupersetRes)"
      ],
      "execution_count": 12,
      "outputs": [
        {
          "output_type": "stream",
          "text": [
            "True\n",
            "True\n"
          ],
          "name": "stdout"
        }
      ]
    }
  ]
}